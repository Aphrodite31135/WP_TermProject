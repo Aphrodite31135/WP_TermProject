{
 "cells": [
  {
   "cell_type": "markdown",
   "metadata": {},
   "source": [
    "# 2023. Spring. Term Project Guide"
   ]
  },
  {
   "cell_type": "markdown",
   "metadata": {},
   "source": [
    "In this class, we have learned the Python programming language's basic grammar and how to use it. You already have sufficient skill to develop simple programs using Python. Regarding the remaining class, I am certain that you will acquire excellent programming skills, when using the Python programming language.\n",
    "\n",
    "The term project is **information acquisition and analysis using Python**. You will find relevant data on the internet and analyze the data. You might want to use Open Data, or you can search for any data in which you are interested.\n",
    "\n",
    "The following is the agenda you need to list in a report. The report must be written in a Jupyter notebook (.ipynb) file. You must upload the report (including 1 to 7) and attachments to the e-campus report-board (will be opened soon).\n",
    "\n",
    "## Agenda\n",
    "1. Topic: a topic and a list of the reasons you selected this topic.\n",
    "2. Definition of hypothesis or proposition: Explain what to prove or confirm through the term project (at least three/at most five).\n",
    "3. Data Acquisition and preprocessing: Explain what data you selected and how you acquired the data to elaborate on the hypothesis or proposition.\n",
    "4. Result of the analysis: Describes what results you found using the mathematical or logical method (at least one data visualizatoin is required for hypothesis).\n",
    "5. Conclusion: Describes your hypothesis or proposition in detail.\n",
    "6. References: Lists the data, internet information, papers, books, etc. acquired for your work.\n",
    "7. Attachment: Acquired data. Python codes (if you write additional Python codes, not on the Jupyter Notebook)\n",
    "\n",
    "The submitted Term Projects will be posted on the website and referenced by the necessary person. In addition, it is prohibited to submit similar/copied work through the internet / blog / book, and if it is detected, you will receive a 0 score for this entire course."
   ]
  },
  {
   "cell_type": "markdown",
   "metadata": {},
   "source": [
    "# Schedule"
   ]
  },
  {
   "cell_type": "markdown",
   "metadata": {},
   "source": [
    "## 1. Mid-report (must be uploaded by May 21. Sunday. 11:59 PM to e-campus.) [3 points]\n",
    "1. Topic\n",
    "2. Definition of hypothesis or proposition: at least three\n",
    "3. Data acquisition: what data you analyzed and how.\n",
    "  - You have to get the data from the internet, not your manual collection.\n",
    "4. Mid-result of the analysis\n",
    "    - You need to print the data on the Jupyter Notebook and add detailed data explanation (for example, column names and row numbers)\n",
    "    - It would be nice if you add an ongoing result of data analysis (optional)\n",
    "5. Result of the analysis\n",
    "6. Reference\n",
    "7. *Attachment: Your data. Python codes (if you write additional Python codes, not on the Jupyter Notebook)\n",
    "\n",
    "-> Write your report in a Jupyter Notebook with Markdown (.ipynb) file. (about A4 1-2 pages)\n",
    "\n",
    "## 2. FInal report (must be uploaded by June 11. Sunday. 11:59 PM to e-campus.) [7 points]\n",
    "- Final report including all the list, 1 to 7 (in a Jupyter notebook file)\n",
    "+ Attachments: original data source and source code (if you created)\n",
    "\n",
    "[Warning] **Late submission will get penalty -1 per 24 hour.**"
   ]
  },
  {
   "cell_type": "markdown",
   "metadata": {},
   "source": [
    "# Final report evaluation\n",
    "\n",
    "### Minimum standard [2 points]\n",
    "\n",
    "- Provide at least three (but at most five) hypothesis or propositions\n",
    "\n",
    "- Provide at least one graph for each hypothesis or propositions on a Jupyter Notebook\n",
    "\n",
    "\n",
    "### Comprehensive evaluation [5 points]\n",
    "\n",
    "- The level of creativity\n",
    "- The level of difficulty (for example, data manipulation)\n",
    "- The level of completion (for your hypothesis)\n",
    "- The level of importance of the data analysis (For example, social impact)\n",
    "- etc. (for example, using clear Markdown)"
   ]
  },
  {
   "cell_type": "markdown",
   "metadata": {},
   "source": [
    "# References"
   ]
  },
  {
   "cell_type": "markdown",
   "metadata": {},
   "source": [
    "## 1. Useful Python data analysis libraries\n",
    "- Pandas: https://pandas.pydata.org/\n",
    "  - You can read data files such as csv and xlsx files and easily analyze the data using Pandas\n",
    "- Matplotlib: https://matplotlib.org/\n",
    "  - A visualization tool"
   ]
  },
  {
   "cell_type": "markdown",
   "metadata": {},
   "source": [
    "## 2. Useful books\n",
    "- Pandas for Everyone: Python Data Analysis<br>\n",
    "https://www.amazon.com/Pandas-Everyone-Python-Data-Analysis/dp/9352869168\n",
    "\n",
    "\n",
    "- Python for Data Analysis: Data Wrangling with pandas, NumPy, and Jupyter<br>\n",
    "https://www.amazon.com/Python-Data-Analysis-Wrangling-IPython/dp/1491957662"
   ]
  },
  {
   "cell_type": "markdown",
   "metadata": {},
   "source": [
    "## 3. Websites\n",
    "- Pandas tutorial<br>\n",
    "https://www.w3schools.com/python/pandas/default.asp"
   ]
  },
  {
   "cell_type": "markdown",
   "metadata": {},
   "source": [
    "## 4. Open Data"
   ]
  },
  {
   "cell_type": "markdown",
   "metadata": {},
   "source": [
    "- Korea Goverment Open API : http://www.data.go.kr/\n",
    "\n",
    "- Seoul Open API : http://data.seoul.go.kr/\n",
    "\n",
    "- https://data.gov/\n",
    "  - Open Data opended by goverments. (Your goverment might have open data websites. It is allowed to use your country's open data)"
   ]
  },
  {
   "cell_type": "markdown",
   "metadata": {},
   "source": [
    "## 5. How to use Open APIs for SNS using Python"
   ]
  },
  {
   "cell_type": "markdown",
   "metadata": {},
   "source": [
    "- Naver : https://developers.naver.com/docs/common/openapiguide/\n",
    "\n",
    "\n",
    "- Facebook : https://facebook-sdk.readthedocs.io/en/latest/\n",
    "\n",
    "\n",
    "- Twitter : https://developer.twitter.com/en/docs/developer-utilities/twitter-libraries.html\n",
    "\n",
    "\n",
    "- Instagram : https://www.instagram.com/developer/libraries/"
   ]
  }
 ],
 "metadata": {
  "kernelspec": {
   "display_name": "Python 3 (ipykernel)",
   "language": "python",
   "name": "python3"
  },
  "language_info": {
   "codemirror_mode": {
    "name": "ipython",
    "version": 3
   },
   "file_extension": ".py",
   "mimetype": "text/x-python",
   "name": "python",
   "nbconvert_exporter": "python",
   "pygments_lexer": "ipython3",
   "version": "3.9.13"
  }
 },
 "nbformat": 4,
 "nbformat_minor": 2
}
