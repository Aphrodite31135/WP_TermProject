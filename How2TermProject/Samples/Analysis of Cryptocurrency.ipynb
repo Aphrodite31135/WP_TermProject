{
 "cells": [
  {
   "cell_type": "markdown",
   "id": "0f48a1bc",
   "metadata": {},
   "source": [
    "# Analysis of Cryptocurrency"
   ]
  },
  {
   "cell_type": "markdown",
   "id": "63f95a92",
   "metadata": {},
   "source": [
    "## 1. Reason of selecting the topic\n",
    "- Personal interest of digital currency.\n",
    "- Data processing is convenient. "
   ]
  },
  {
   "cell_type": "markdown",
   "id": "2653acd9",
   "metadata": {},
   "source": [
    "## 2. Definition of Hypothesis\n",
    "Through this project, I mainly would like to prove whether Python can help to analyse cryptocurrencies easier and as a result, Python does help cryptocurrency analysis easier. I provided some of the analytics problems related to this project that prove this statement and it will be mentioned by the following;\n",
    "1. Relative change in the closing prices of BTH and ETC\n",
    "2. The correlation of the closing prices of both currencies\n",
    "3. Buy and Hold\n",
    "4. Profitable purchase\n"
   ]
  },
  {
   "cell_type": "markdown",
   "id": "b59dd564",
   "metadata": {},
   "source": [
    "## 3. Data Acquisition via the Internet\n",
    "I selected the historical data from Yahoo finance.\n",
    "- BTC-USD \n",
    "https://finance.yahoo.com/quote/BTC-KRW/history?p=BTC-KRW\n",
    "- ETH-USD\n",
    "https://finance.yahoo.com/quote/ETH-USD/history?p=ETH-USD\n",
    "\n",
    "\n",
    "Both data were the only things I needed for numeral analysis of both cryptocurrencies' closing prices. I wanted to use an hourly time interval for its higher granularity, however, I wasn't able to get the data as I don't have the privilege to access the data, therefore I changed my topic from hourly to daily closing price. "
   ]
  },
  {
   "cell_type": "markdown",
   "id": "1353b81e",
   "metadata": {},
   "source": [
    "## 4. Data Processing for Analysis\n",
    "The data process will be explained as following:\n"
   ]
  },
  {
   "cell_type": "markdown",
   "id": "7a28698e",
   "metadata": {},
   "source": [
    "#### 4.1 Loading the historical data and use it to get more precised data \n",
    "\n",
    "I input the data manually then merged the closing prices to a \"Data Frame\" to make the analysis easier. \n",
    "I proceeded to get the basic statistic of the data frame which includes count the number of events, mean, standard deviation, minimum, quartile (25%, 50% 75%), and maximum closing prices.\n",
    "\n",
    "#### 4.2 Getting the interquartile range and visualising it with boxplot, it's a substraction of the first quartile and the third quartile and getting the histogram of the closing prices with matplot\n",
    "\n",
    "Interquartile range is used to analyse a certain value from each cryptocurrencies. It analysis the price distribution from a period of time and the dash line represents the most sold price of both cryptocurrencies.\n",
    "The histogram is used to estimate the frequency distribution of both cryptocurrencies. \n",
    "\n",
    "\n",
    "#### 4.3 Visualising the absolute closing price by using AxesSubplot and relative changes by using MatPlot\n",
    "\n",
    "The absolute closing price visualisation was essential to conclude the data I've analysed before and it's also used for a reference for further analysis. The next data that I input was the relative changes visualisation and I used two different y-axis scales to classify both cryptocurrencies.\n",
    "\n",
    "#### 4.4 Correlation of closing prices measurement\n",
    "\n",
    "I calculated the Pearson correlation between both cryptocurrencies. It's quite confusing as I rarely use this method since I didn't need to measure any correlation, however this data supports the buy and hold strategy. It determines whether two cryptocurrencies' correlation is coefficient or accidental.\n",
    "\n",
    "#### 4.5 Visualising which cryptocurriencies should be bought or hold by using Lambda\n",
    "\n",
    "I visualised the buy and hold data as it's one of the important strategies when it comes to investing on cryptocurrencies. The way of calculating this is by dividing a certain period by the initial closing price. This operation calculates the return percentage. \n",
    "Due to lack of knowledge of how to utilise python code for mathematic formula, I used the site greekforgreeks and lambda for code reference. \n",
    "\n",
    "#### 4.6 Visualising the profit return and increase percentage\n",
    "\n",
    "It is essential to calculate the profit return and increase percentage after calculating the buy and hold percentage. I used lines to visualise the profit return as it's easier to interpret it and bars for increase percentage. "
   ]
  },
  {
   "cell_type": "markdown",
   "id": "c0ab7d73",
   "metadata": {},
   "source": [
    "## 5. Result of Analysis\n",
    "\n",
    "I will provide the whole data and the result of Analysis will be explained precisely by the following:\n",
    "\n",
    "### 5.1 DataFrame \n",
    "As I mentioned above, I used Data Frame to input the statistic that includes count the number of events, mean, standard deviation, minimum, quartile (25%, 50% 75%), and maximum closing prices. As a result, I managed to get these data which helped my further analysis."
   ]
  },
  {
   "cell_type": "code",
   "execution_count": 1,
   "id": "85f3e78a",
   "metadata": {},
   "outputs": [],
   "source": [
    "import pandas as pd\n",
    "import numpy as np\n",
    "import seaborn as sns\n",
    "import matplotlib.pyplot as plt\n",
    "%matplotlib inline"
   ]
  },
  {
   "cell_type": "code",
   "execution_count": 3,
   "id": "4aa036b5",
   "metadata": {},
   "outputs": [
    {
     "data": {
      "text/html": [
       "<div>\n",
       "<style scoped>\n",
       "    .dataframe tbody tr th:only-of-type {\n",
       "        vertical-align: middle;\n",
       "    }\n",
       "\n",
       "    .dataframe tbody tr th {\n",
       "        vertical-align: top;\n",
       "    }\n",
       "\n",
       "    .dataframe thead th {\n",
       "        text-align: right;\n",
       "    }\n",
       "</style>\n",
       "<table border=\"1\" class=\"dataframe\">\n",
       "  <thead>\n",
       "    <tr style=\"text-align: right;\">\n",
       "      <th></th>\n",
       "      <th>Date</th>\n",
       "      <th>Open</th>\n",
       "      <th>High</th>\n",
       "      <th>Low</th>\n",
       "      <th>Close</th>\n",
       "      <th>Adj Close</th>\n",
       "      <th>Volume</th>\n",
       "    </tr>\n",
       "  </thead>\n",
       "  <tbody>\n",
       "    <tr>\n",
       "      <th>0</th>\n",
       "      <td>2021-11-21</td>\n",
       "      <td>4412.195313</td>\n",
       "      <td>4422.491699</td>\n",
       "      <td>4255.455078</td>\n",
       "      <td>4269.732910</td>\n",
       "      <td>4269.732910</td>\n",
       "      <td>14094831413</td>\n",
       "    </tr>\n",
       "    <tr>\n",
       "      <th>1</th>\n",
       "      <td>2021-11-22</td>\n",
       "      <td>4266.509277</td>\n",
       "      <td>4302.022949</td>\n",
       "      <td>4033.572266</td>\n",
       "      <td>4088.457764</td>\n",
       "      <td>4088.457764</td>\n",
       "      <td>19752218877</td>\n",
       "    </tr>\n",
       "    <tr>\n",
       "      <th>2</th>\n",
       "      <td>2021-11-23</td>\n",
       "      <td>4089.680420</td>\n",
       "      <td>4385.483398</td>\n",
       "      <td>4069.766602</td>\n",
       "      <td>4340.763672</td>\n",
       "      <td>4340.763672</td>\n",
       "      <td>22133497059</td>\n",
       "    </tr>\n",
       "    <tr>\n",
       "      <th>3</th>\n",
       "      <td>2021-11-24</td>\n",
       "      <td>4340.036133</td>\n",
       "      <td>4376.875977</td>\n",
       "      <td>4176.183594</td>\n",
       "      <td>4239.981445</td>\n",
       "      <td>4239.981445</td>\n",
       "      <td>21838037128</td>\n",
       "    </tr>\n",
       "    <tr>\n",
       "      <th>4</th>\n",
       "      <td>2021-11-25</td>\n",
       "      <td>4271.394531</td>\n",
       "      <td>4550.518066</td>\n",
       "      <td>4249.774414</td>\n",
       "      <td>4274.743164</td>\n",
       "      <td>4274.743164</td>\n",
       "      <td>18705358318</td>\n",
       "    </tr>\n",
       "  </tbody>\n",
       "</table>\n",
       "</div>"
      ],
      "text/plain": [
       "         Date         Open         High          Low        Close  \\\n",
       "0  2021-11-21  4412.195313  4422.491699  4255.455078  4269.732910   \n",
       "1  2021-11-22  4266.509277  4302.022949  4033.572266  4088.457764   \n",
       "2  2021-11-23  4089.680420  4385.483398  4069.766602  4340.763672   \n",
       "3  2021-11-24  4340.036133  4376.875977  4176.183594  4239.981445   \n",
       "4  2021-11-25  4271.394531  4550.518066  4249.774414  4274.743164   \n",
       "\n",
       "     Adj Close       Volume  \n",
       "0  4269.732910  14094831413  \n",
       "1  4088.457764  19752218877  \n",
       "2  4340.763672  22133497059  \n",
       "3  4239.981445  21838037128  \n",
       "4  4274.743164  18705358318  "
      ]
     },
     "execution_count": 3,
     "metadata": {},
     "output_type": "execute_result"
    }
   ],
   "source": [
    "### ETH closing price ###\n",
    "df_ETH = pd.read_csv('ETH-USD.csv')\n",
    "df_ETH.head()"
   ]
  },
  {
   "cell_type": "code",
   "execution_count": 4,
   "id": "06e3ab21",
   "metadata": {},
   "outputs": [
    {
     "data": {
      "text/html": [
       "<div>\n",
       "<style scoped>\n",
       "    .dataframe tbody tr th:only-of-type {\n",
       "        vertical-align: middle;\n",
       "    }\n",
       "\n",
       "    .dataframe tbody tr th {\n",
       "        vertical-align: top;\n",
       "    }\n",
       "\n",
       "    .dataframe thead th {\n",
       "        text-align: right;\n",
       "    }\n",
       "</style>\n",
       "<table border=\"1\" class=\"dataframe\">\n",
       "  <thead>\n",
       "    <tr style=\"text-align: right;\">\n",
       "      <th></th>\n",
       "      <th>Date</th>\n",
       "      <th>Open</th>\n",
       "      <th>High</th>\n",
       "      <th>Low</th>\n",
       "      <th>Close</th>\n",
       "      <th>Adj Close</th>\n",
       "      <th>Volume</th>\n",
       "    </tr>\n",
       "  </thead>\n",
       "  <tbody>\n",
       "    <tr>\n",
       "      <th>0</th>\n",
       "      <td>2021-11-21</td>\n",
       "      <td>59730.507813</td>\n",
       "      <td>60004.425781</td>\n",
       "      <td>58618.929688</td>\n",
       "      <td>58730.476563</td>\n",
       "      <td>58730.476563</td>\n",
       "      <td>26123447605</td>\n",
       "    </tr>\n",
       "    <tr>\n",
       "      <th>1</th>\n",
       "      <td>2021-11-22</td>\n",
       "      <td>58706.847656</td>\n",
       "      <td>59266.359375</td>\n",
       "      <td>55679.839844</td>\n",
       "      <td>56289.289063</td>\n",
       "      <td>56289.289063</td>\n",
       "      <td>35036121783</td>\n",
       "    </tr>\n",
       "    <tr>\n",
       "      <th>2</th>\n",
       "      <td>2021-11-23</td>\n",
       "      <td>56304.554688</td>\n",
       "      <td>57875.515625</td>\n",
       "      <td>55632.761719</td>\n",
       "      <td>57569.074219</td>\n",
       "      <td>57569.074219</td>\n",
       "      <td>37485803899</td>\n",
       "    </tr>\n",
       "    <tr>\n",
       "      <th>3</th>\n",
       "      <td>2021-11-24</td>\n",
       "      <td>57565.851563</td>\n",
       "      <td>57803.066406</td>\n",
       "      <td>55964.222656</td>\n",
       "      <td>56280.425781</td>\n",
       "      <td>56280.425781</td>\n",
       "      <td>36635566789</td>\n",
       "    </tr>\n",
       "    <tr>\n",
       "      <th>4</th>\n",
       "      <td>2021-11-25</td>\n",
       "      <td>57165.417969</td>\n",
       "      <td>59367.968750</td>\n",
       "      <td>57146.683594</td>\n",
       "      <td>57274.679688</td>\n",
       "      <td>57274.679688</td>\n",
       "      <td>34284016248</td>\n",
       "    </tr>\n",
       "  </tbody>\n",
       "</table>\n",
       "</div>"
      ],
      "text/plain": [
       "         Date          Open          High           Low         Close  \\\n",
       "0  2021-11-21  59730.507813  60004.425781  58618.929688  58730.476563   \n",
       "1  2021-11-22  58706.847656  59266.359375  55679.839844  56289.289063   \n",
       "2  2021-11-23  56304.554688  57875.515625  55632.761719  57569.074219   \n",
       "3  2021-11-24  57565.851563  57803.066406  55964.222656  56280.425781   \n",
       "4  2021-11-25  57165.417969  59367.968750  57146.683594  57274.679688   \n",
       "\n",
       "      Adj Close       Volume  \n",
       "0  58730.476563  26123447605  \n",
       "1  56289.289063  35036121783  \n",
       "2  57569.074219  37485803899  \n",
       "3  56280.425781  36635566789  \n",
       "4  57274.679688  34284016248  "
      ]
     },
     "execution_count": 4,
     "metadata": {},
     "output_type": "execute_result"
    }
   ],
   "source": [
    "### BTC closing price ###\n",
    "df_BTC = pd.read_csv('BTC-USD.csv')\n",
    "df_BTC.head()"
   ]
  },
  {
   "cell_type": "code",
   "execution_count": 5,
   "id": "5bccc549",
   "metadata": {},
   "outputs": [
    {
     "data": {
      "text/html": [
       "<div>\n",
       "<style scoped>\n",
       "    .dataframe tbody tr th:only-of-type {\n",
       "        vertical-align: middle;\n",
       "    }\n",
       "\n",
       "    .dataframe tbody tr th {\n",
       "        vertical-align: top;\n",
       "    }\n",
       "\n",
       "    .dataframe thead th {\n",
       "        text-align: right;\n",
       "    }\n",
       "</style>\n",
       "<table border=\"1\" class=\"dataframe\">\n",
       "  <thead>\n",
       "    <tr style=\"text-align: right;\">\n",
       "      <th></th>\n",
       "      <th>Date</th>\n",
       "      <th>ETH</th>\n",
       "      <th>BTC</th>\n",
       "    </tr>\n",
       "  </thead>\n",
       "  <tbody>\n",
       "    <tr>\n",
       "      <th>0</th>\n",
       "      <td>2021-11-21</td>\n",
       "      <td>4269.732910</td>\n",
       "      <td>58730.476563</td>\n",
       "    </tr>\n",
       "    <tr>\n",
       "      <th>1</th>\n",
       "      <td>2021-11-22</td>\n",
       "      <td>4088.457764</td>\n",
       "      <td>56289.289063</td>\n",
       "    </tr>\n",
       "    <tr>\n",
       "      <th>2</th>\n",
       "      <td>2021-11-23</td>\n",
       "      <td>4340.763672</td>\n",
       "      <td>57569.074219</td>\n",
       "    </tr>\n",
       "    <tr>\n",
       "      <th>3</th>\n",
       "      <td>2021-11-24</td>\n",
       "      <td>4239.981445</td>\n",
       "      <td>56280.425781</td>\n",
       "    </tr>\n",
       "    <tr>\n",
       "      <th>4</th>\n",
       "      <td>2021-11-25</td>\n",
       "      <td>4274.743164</td>\n",
       "      <td>57274.679688</td>\n",
       "    </tr>\n",
       "  </tbody>\n",
       "</table>\n",
       "</div>"
      ],
      "text/plain": [
       "         Date          ETH           BTC\n",
       "0  2021-11-21  4269.732910  58730.476563\n",
       "1  2021-11-22  4088.457764  56289.289063\n",
       "2  2021-11-23  4340.763672  57569.074219\n",
       "3  2021-11-24  4239.981445  56280.425781\n",
       "4  2021-11-25  4274.743164  57274.679688"
      ]
     },
     "execution_count": 5,
     "metadata": {},
     "output_type": "execute_result"
    }
   ],
   "source": [
    "### \"CLOSE\"data ###\n",
    "df = pd.DataFrame({\n",
    "    'Date': df_ETH.Date,\n",
    "    'ETH': df_ETH.Close,\n",
    "    'BTC': df_BTC.Close\n",
    "})\n",
    "df.head()"
   ]
  },
  {
   "cell_type": "code",
   "execution_count": 6,
   "id": "c6a4719f",
   "metadata": {},
   "outputs": [
    {
     "data": {
      "text/html": [
       "<div>\n",
       "<style scoped>\n",
       "    .dataframe tbody tr th:only-of-type {\n",
       "        vertical-align: middle;\n",
       "    }\n",
       "\n",
       "    .dataframe tbody tr th {\n",
       "        vertical-align: top;\n",
       "    }\n",
       "\n",
       "    .dataframe thead th {\n",
       "        text-align: right;\n",
       "    }\n",
       "</style>\n",
       "<table border=\"1\" class=\"dataframe\">\n",
       "  <thead>\n",
       "    <tr style=\"text-align: right;\">\n",
       "      <th></th>\n",
       "      <th>ETH</th>\n",
       "      <th>BTC</th>\n",
       "    </tr>\n",
       "  </thead>\n",
       "  <tbody>\n",
       "    <tr>\n",
       "      <th>count</th>\n",
       "      <td>366.000000</td>\n",
       "      <td>366.000000</td>\n",
       "    </tr>\n",
       "    <tr>\n",
       "      <th>mean</th>\n",
       "      <td>2306.947547</td>\n",
       "      <td>31999.520583</td>\n",
       "    </tr>\n",
       "    <tr>\n",
       "      <th>std</th>\n",
       "      <td>970.218974</td>\n",
       "      <td>11647.216966</td>\n",
       "    </tr>\n",
       "    <tr>\n",
       "      <th>min</th>\n",
       "      <td>993.636780</td>\n",
       "      <td>15787.284180</td>\n",
       "    </tr>\n",
       "    <tr>\n",
       "      <th>25%</th>\n",
       "      <td>1463.684478</td>\n",
       "      <td>20549.502442</td>\n",
       "    </tr>\n",
       "    <tr>\n",
       "      <th>50%</th>\n",
       "      <td>1973.350098</td>\n",
       "      <td>30003.963867</td>\n",
       "    </tr>\n",
       "    <tr>\n",
       "      <th>75%</th>\n",
       "      <td>3030.894471</td>\n",
       "      <td>41965.094726</td>\n",
       "    </tr>\n",
       "    <tr>\n",
       "      <th>max</th>\n",
       "      <td>4631.479004</td>\n",
       "      <td>58730.476563</td>\n",
       "    </tr>\n",
       "  </tbody>\n",
       "</table>\n",
       "</div>"
      ],
      "text/plain": [
       "               ETH           BTC\n",
       "count   366.000000    366.000000\n",
       "mean   2306.947547  31999.520583\n",
       "std     970.218974  11647.216966\n",
       "min     993.636780  15787.284180\n",
       "25%    1463.684478  20549.502442\n",
       "50%    1973.350098  30003.963867\n",
       "75%    3030.894471  41965.094726\n",
       "max    4631.479004  58730.476563"
      ]
     },
     "execution_count": 6,
     "metadata": {},
     "output_type": "execute_result"
    }
   ],
   "source": [
    "### Data Frame ###\n",
    "df.describe()"
   ]
  },
  {
   "cell_type": "markdown",
   "id": "a9c10e1e",
   "metadata": {},
   "source": [
    "### 5.2 Interquartile range (25% - 75%)\n",
    "\n",
    "I showed the interquartile range by using a box plot."
   ]
  },
  {
   "cell_type": "code",
   "execution_count": 10,
   "id": "ef6df31f",
   "metadata": {},
   "outputs": [
    {
     "data": {
      "image/png": "[encoded data removed]",
      "text/plain": [
       "<Figure size 432x288 with 1 Axes>"
      ]
     },
     "metadata": {
      "needs_background": "light"
     },
     "output_type": "display_data"
    }
   ],
   "source": [
    "### ETH interquartile range ###\n",
    "import seaborn as sns\n",
    "ax = sns.boxplot(data=df['ETH'], orient=\"h\")"
   ]
  },
  {
   "cell_type": "markdown",
   "id": "309991c7",
   "metadata": {},
   "source": [
    "ETH daily closing price goes back and forth between 1,500 USD to 3,000 USD in the last 12 months."
   ]
  },
  {
   "cell_type": "code",
   "execution_count": 11,
   "id": "003035b8",
   "metadata": {},
   "outputs": [
    {
     "data": {
      "image/png": "[encoded data removed]",
      "text/plain": [
       "<Figure size 432x288 with 1 Axes>"
      ]
     },
     "metadata": {
      "needs_background": "light"
     },
     "output_type": "display_data"
    }
   ],
   "source": [
    "### BTC interquartile range ###\n",
    "import seaborn as sns\n",
    "ax = sns.boxplot(data=df['BTC'], orient=\"h\")"
   ]
  },
  {
   "cell_type": "markdown",
   "id": "e85c7ab0",
   "metadata": {},
   "source": [
    "BTC daily closing price goes between 20,000 USD to 40,000 in the last 12 months."
   ]
  },
  {
   "cell_type": "markdown",
   "id": "00ce9ff3",
   "metadata": {},
   "source": [
    "### 5.3 Histogram \n",
    "\n",
    "Histogram shows the number of certain period cryptocurrencies had a value."
   ]
  },
  {
   "cell_type": "code",
   "execution_count": 13,
   "id": "6adbc5e7",
   "metadata": {},
   "outputs": [
    {
     "data": {
      "text/plain": [
       "<matplotlib.lines.Line2D at 0x193db659400>"
      ]
     },
     "execution_count": 13,
     "metadata": {},
     "output_type": "execute_result"
    },
    {
     "data": {
      "image/png": "[encoded data removed]",
      "text/plain": [
       "<Figure size 720x360 with 1 Axes>"
      ]
     },
     "metadata": {
      "needs_background": "light"
     },
     "output_type": "display_data"
    }
   ],
   "source": [
    "### ETH histogram ###\n",
    "df['ETH'].hist(bins=30, figsize=(10,5)).axvline(df['ETH'].median(), color='black', linestyle='dashed', linewidth=4)"
   ]
  },
  {
   "cell_type": "markdown",
   "id": "005a543c",
   "metadata": {},
   "source": [
    "- The drastic change of ETH seemed severe judging by the high number difference.\n",
    "- The price of ETH barely reached the number 4,000 for quite a period.\n",
    "- The dashed median line indicates that half of the time closing prices of ETH were under 2,000 USD. "
   ]
  },
  {
   "cell_type": "code",
   "execution_count": 14,
   "id": "b89a84fb",
   "metadata": {},
   "outputs": [
    {
     "data": {
      "text/plain": [
       "<matplotlib.lines.Line2D at 0x193db6f7bb0>"
      ]
     },
     "execution_count": 14,
     "metadata": {},
     "output_type": "execute_result"
    },
    {
     "data": {
      "image/png": "[encoded data removed]",
      "text/plain": [
       "<Figure size 720x360 with 1 Axes>"
      ]
     },
     "metadata": {
      "needs_background": "light"
     },
     "output_type": "display_data"
    }
   ],
   "source": [
    "### BTC histogram ###\n",
    "df['BTC'].hist(bins=30, figsize=(10,5)).axvline(df['BTC'].median(), color='black', linestyle='dashed', linewidth=4)"
   ]
  },
  {
   "cell_type": "markdown",
   "id": "e0ba08f0",
   "metadata": {},
   "source": [
    "- BTC had the biggest sales when it was 20,000 USD and lowest or no sales at all when it hit 50,000 USD - 60,000 USD.\n",
    "- The closing price was most likely at 30,000 USD."
   ]
  },
  {
   "cell_type": "markdown",
   "id": "8b7f57f6",
   "metadata": {},
   "source": [
    "### 5.4 Relative changes in closing prices\n",
    "\n",
    "I won't input the absolute closing prices as it's quite useless to just visualise it alone. Therefore, I will pass the next explanation to the relative changes in closing prices. "
   ]
  },
  {
   "cell_type": "code",
   "execution_count": 16,
   "id": "243b9902",
   "metadata": {},
   "outputs": [
    {
     "data": {
      "text/plain": [
       "<matplotlib.legend.Legend at 0x193db7f41f0>"
      ]
     },
     "execution_count": 16,
     "metadata": {},
     "output_type": "execute_result"
    },
    {
     "data": {
      "image/png": "[encoded data removed]",
      "text/plain": [
       "<Figure size 720x360 with 3 Axes>"
      ]
     },
     "metadata": {
      "needs_background": "light"
     },
     "output_type": "display_data"
    }
   ],
   "source": [
    "### Relative Changes in both closing prices ###\n",
    "import matplotlib.pyplot as plt\n",
    "import numpy as np\n",
    "\n",
    "fig, ax1 = plt.subplots(figsize=(10, 5))\n",
    "ax2 = ax1.twinx()\n",
    "rspine = ax2.spines['right']\n",
    "rspine.set_position(('axes', 1.15))\n",
    "ax2.set_frame_on(True)\n",
    "ax2.patch.set_visible(False)\n",
    "fig.subplots_adjust(right=0.7)\n",
    "df['BTC'].plot(ax=ax1, style='b-')\n",
    "df['ETH'].plot(ax=ax1, style='r-', secondary_y=True)\n",
    "# legend\n",
    "ax2.legend([ax1.get_lines()[0],\n",
    "            ax1.right_ax.get_lines()[0]],\n",
    "           ['BTC', 'ETH'])"
   ]
  },
  {
   "cell_type": "markdown",
   "id": "f22bcffe",
   "metadata": {},
   "source": [
    "Through the visualisation of relative changes in closing price, we get to know that the closing prices rises and falls mutually, meaning one coin price affects other coin prices growth and fall.\n",
    "\n",
    "Both cryptocurrencies prices appear to drop very sharply."
   ]
  },
  {
   "cell_type": "markdown",
   "id": "6eb8ff79",
   "metadata": {},
   "source": [
    "### 5.5 Correlation of closing prices\n",
    "\n",
    "I calculated the correlation of both cryptocurrencies closing price by using Pearson correlation. This method actually involves Log returns, however, I failed to input it as I haven't studied further about this method. Thus, I provided the un-normalised closing prices correlation. "
   ]
  },
  {
   "cell_type": "code",
   "execution_count": 17,
   "id": "6b8c6c88",
   "metadata": {},
   "outputs": [
    {
     "data": {
      "text/plain": [
       "<AxesSubplot:>"
      ]
     },
     "execution_count": 17,
     "metadata": {},
     "output_type": "execute_result"
    },
    {
     "data": {
      "image/png": "[encoded data removed]",
      "text/plain": [
       "<Figure size 360x360 with 2 Axes>"
      ]
     },
     "metadata": {
      "needs_background": "light"
     },
     "output_type": "display_data"
    }
   ],
   "source": [
    "import seaborn as sns\n",
    "import matplotlib.pyplot as plt\n",
    "\n",
    "corr = df.corr()\n",
    "\n",
    "mask = np.zeros_like(corr, dtype=np.bool_)\n",
    "mask[np.triu_indices_from(mask)] = True\n",
    "\n",
    "f, ax = plt.subplots(figsize=(5, 5))\n",
    "\n",
    "sns.heatmap(corr, annot=True, fmt = '.4f', mask=mask, center=0, square=True, linewidths=.5)"
   ]
  },
  {
   "cell_type": "markdown",
   "id": "d33ea7dc",
   "metadata": {},
   "source": [
    "- ETH and BTC were considered strongly correlated with 0,9772 Pearson correlation coefficient. \n",
    "- The strong correlation of both cryptocurrencies indicates why both cryptocurrencies faced same severe price fluctuation and rough decrease. "
   ]
  },
  {
   "cell_type": "markdown",
   "id": "1c3a63ea",
   "metadata": {},
   "source": [
    "### 5.6 Buy and Hold\n",
    "\n",
    "This is a strategy where buyer or investor buys a cryptocurrency and holds it in order to gain high profit in the future. I calculated the return percentage by dividing a certain period by the initial closing price. "
   ]
  },
  {
   "cell_type": "code",
   "execution_count": 22,
   "id": "36bfd799",
   "metadata": {},
   "outputs": [
    {
     "data": {
      "text/html": [
       "<div>\n",
       "<style scoped>\n",
       "    .dataframe tbody tr th:only-of-type {\n",
       "        vertical-align: middle;\n",
       "    }\n",
       "\n",
       "    .dataframe tbody tr th {\n",
       "        vertical-align: top;\n",
       "    }\n",
       "\n",
       "    .dataframe thead th {\n",
       "        text-align: right;\n",
       "    }\n",
       "</style>\n",
       "<table border=\"1\" class=\"dataframe\">\n",
       "  <thead>\n",
       "    <tr style=\"text-align: right;\">\n",
       "      <th></th>\n",
       "      <th>Date</th>\n",
       "      <th>ETH</th>\n",
       "      <th>BTC</th>\n",
       "    </tr>\n",
       "  </thead>\n",
       "  <tbody>\n",
       "    <tr>\n",
       "      <th>0</th>\n",
       "      <td>2021-11-21</td>\n",
       "      <td>1.000000</td>\n",
       "      <td>1.000000</td>\n",
       "    </tr>\n",
       "    <tr>\n",
       "      <th>1</th>\n",
       "      <td>2021-11-22</td>\n",
       "      <td>0.957544</td>\n",
       "      <td>0.958434</td>\n",
       "    </tr>\n",
       "    <tr>\n",
       "      <th>2</th>\n",
       "      <td>2021-11-23</td>\n",
       "      <td>1.016636</td>\n",
       "      <td>0.980225</td>\n",
       "    </tr>\n",
       "    <tr>\n",
       "      <th>3</th>\n",
       "      <td>2021-11-24</td>\n",
       "      <td>0.993032</td>\n",
       "      <td>0.958283</td>\n",
       "    </tr>\n",
       "    <tr>\n",
       "      <th>4</th>\n",
       "      <td>2021-11-25</td>\n",
       "      <td>1.001173</td>\n",
       "      <td>0.975212</td>\n",
       "    </tr>\n",
       "  </tbody>\n",
       "</table>\n",
       "</div>"
      ],
      "text/plain": [
       "         Date       ETH       BTC\n",
       "0  2021-11-21  1.000000  1.000000\n",
       "1  2021-11-22  0.957544  0.958434\n",
       "2  2021-11-23  1.016636  0.980225\n",
       "3  2021-11-24  0.993032  0.958283\n",
       "4  2021-11-25  1.001173  0.975212"
      ]
     },
     "execution_count": 22,
     "metadata": {},
     "output_type": "execute_result"
    }
   ],
   "source": [
    "df_return = df\n",
    "df_return[['ETH','BTC']] = df_return[['ETH','BTC']].apply(lambda x: x / x[0])\n",
    "df_return.head()"
   ]
  },
  {
   "cell_type": "code",
   "execution_count": 23,
   "id": "4fedf7d3",
   "metadata": {},
   "outputs": [
    {
     "data": {
      "text/plain": [
       "<matplotlib.lines.Line2D at 0x193db6e3c10>"
      ]
     },
     "execution_count": 23,
     "metadata": {},
     "output_type": "execute_result"
    },
    {
     "data": {
      "image/png": "[encoded data removed]",
      "text/plain": [
       "<Figure size 720x360 with 1 Axes>"
      ]
     },
     "metadata": {
      "needs_background": "light"
     },
     "output_type": "display_data"
    }
   ],
   "source": [
    "### Profit return df_return = df\n",
    "df_return.plot(grid=True, figsize=(10, 5)).axhline(y = 1, color = \"red\", lw = 2)"
   ]
  },
  {
   "cell_type": "markdown",
   "id": "37c63d2c",
   "metadata": {},
   "source": [
    "From the chart and visualisation we can conclude that it is best to NOT make a purchase as the price seems to get lower and lower throughout the year and the percentage just gets worse as days pass by, but if a purchase has to be necessarily done now, it's best to purchase them by the end of November."
   ]
  },
  {
   "cell_type": "markdown",
   "id": "d0d7e5d0",
   "metadata": {},
   "source": [
    "### 5.7 Chance of increase"
   ]
  },
  {
   "cell_type": "code",
   "execution_count": 24,
   "id": "3538f862",
   "metadata": {},
   "outputs": [
    {
     "data": {
      "text/html": [
       "<div>\n",
       "<style scoped>\n",
       "    .dataframe tbody tr th:only-of-type {\n",
       "        vertical-align: middle;\n",
       "    }\n",
       "\n",
       "    .dataframe tbody tr th {\n",
       "        vertical-align: top;\n",
       "    }\n",
       "\n",
       "    .dataframe thead th {\n",
       "        text-align: right;\n",
       "    }\n",
       "</style>\n",
       "<table border=\"1\" class=\"dataframe\">\n",
       "  <thead>\n",
       "    <tr style=\"text-align: right;\">\n",
       "      <th></th>\n",
       "      <th>Date</th>\n",
       "      <th>ETH</th>\n",
       "      <th>BTC</th>\n",
       "    </tr>\n",
       "  </thead>\n",
       "  <tbody>\n",
       "    <tr>\n",
       "      <th>361</th>\n",
       "      <td>2022-11-172022-11-172022-11-172022-11-172022-1...</td>\n",
       "      <td>28.123740</td>\n",
       "      <td>28.413728</td>\n",
       "    </tr>\n",
       "    <tr>\n",
       "      <th>362</th>\n",
       "      <td>2022-11-182022-11-182022-11-182022-11-182022-1...</td>\n",
       "      <td>28.392884</td>\n",
       "      <td>28.431197</td>\n",
       "    </tr>\n",
       "    <tr>\n",
       "      <th>363</th>\n",
       "      <td>2022-11-192022-11-192022-11-192022-11-192022-1...</td>\n",
       "      <td>28.536369</td>\n",
       "      <td>28.454642</td>\n",
       "    </tr>\n",
       "    <tr>\n",
       "      <th>364</th>\n",
       "      <td>2022-11-202022-11-202022-11-202022-11-202022-1...</td>\n",
       "      <td>26.757334</td>\n",
       "      <td>27.739996</td>\n",
       "    </tr>\n",
       "    <tr>\n",
       "      <th>365</th>\n",
       "      <td>2022-11-212022-11-212022-11-212022-11-212022-1...</td>\n",
       "      <td>25.958369</td>\n",
       "      <td>26.880906</td>\n",
       "    </tr>\n",
       "  </tbody>\n",
       "</table>\n",
       "</div>"
      ],
      "text/plain": [
       "                                                  Date        ETH        BTC\n",
       "361  2022-11-172022-11-172022-11-172022-11-172022-1...  28.123740  28.413728\n",
       "362  2022-11-182022-11-182022-11-182022-11-182022-1...  28.392884  28.431197\n",
       "363  2022-11-192022-11-192022-11-192022-11-192022-1...  28.536369  28.454642\n",
       "364  2022-11-202022-11-202022-11-202022-11-202022-1...  26.757334  27.739996\n",
       "365  2022-11-212022-11-212022-11-212022-11-212022-1...  25.958369  26.880906"
      ]
     },
     "execution_count": 24,
     "metadata": {},
     "output_type": "execute_result"
    },
    {
     "data": {
      "image/png": "[encoded data removed]",
      "text/plain": [
       "<Figure size 432x288 with 1 Axes>"
      ]
     },
     "metadata": {
      "needs_background": "light"
     },
     "output_type": "display_data"
    }
   ],
   "source": [
    "df_perc = df_return.tail(5) * 100\n",
    "ax = sns.barplot(data=df_perc)\n",
    "df_perc"
   ]
  },
  {
   "cell_type": "markdown",
   "id": "66b229f8",
   "metadata": {},
   "source": [
    "From the chart above, we can conclude that there is barely a chance for both cryptocurrencies price to increase."
   ]
  },
  {
   "cell_type": "markdown",
   "id": "a46b8ac3",
   "metadata": {},
   "source": [
    "## 6. Conclusion"
   ]
  },
  {
   "cell_type": "markdown",
   "id": "f1df9db1",
   "metadata": {},
   "source": [
    "As conclusion, Python is very practical and help to analyse easier IF we study the code devotedly as it's quite complicated to input some equations into this.\n",
    "I'm quite satisfied as I managed to get almost the result I wanted.\n",
    "\n",
    "For the conclusion of the analysis that I've made, we can conclude that the cryptocurrencies fluctuated a lot and might cause severe drawbacks if purchased. The increase percentage is considered very low, and judging by the charts I've shown, it seems like cryptocurrencies are getting more volatile as the time passes unless there's a huge issue related to cryptocurrencies. \n",
    "\n",
    "According to the article The Times UK, these cryptocurrencies collapsed due to:\n",
    "- Binance, one of the world’s largest cryptocurrency exchanges, paused bitcoin withdrawals.\n",
    "- Some countries banned cryptocurrency transaction (Such as Rusia and China).\n",
    "- Tesla boss Elon Musk said that the electric car maker would no longer be accepting digital payments over concerns about the impact of cryptocurrency “mining” – the computing power required to create the likes of bitcoin – on the environment.\n",
    "- US president Donald Trump described bitcoin as a “scam” competing against the dollar to be “the currency of the world”.\n",
    "- UK regulator the Financial Conduct Authority in effect blacklisted Binance, one of the largest crypto exchanges. Big banks such as HSBC and Santander followed suit by blocking customers from making payments to Binance.\n",
    "- The International Monetary Fund issued a warning on countries using cryptocurrencies as legal tender, saying its widespread use would threaten “macroeconomic stability” and could harm financial integrity.\n",
    "- Hacking issue. "
   ]
  },
  {
   "cell_type": "markdown",
   "id": "51c95586",
   "metadata": {},
   "source": [
    "## 7. Reference \n",
    "- BTC-USD \n",
    "https://finance.yahoo.com/quote/BTC-KRW/history?p=BTC-KRW\n",
    "- ETH-USD\n",
    "https://finance.yahoo.com/quote/ETH-USD/history?p=ETH-USD\n",
    "- Greekforgreeks & lambda for code reference\n",
    "- Pandas user guide\n",
    "https://pandas.pydata.org/pandas-docs/stable/user_guide/index.html\n",
    "- Pandas cheatsheets\n",
    "https://www.datacamp.com/cheat-sheet/pandas-cheat-sheet-for-data-science-in-python\n",
    "- Reason why cryptocurrencies collapse\n",
    "https://www.thetimes.co.uk/money-mentor/article/is-bitcoin-crash-coming/"
   ]
  }
 ],
 "metadata": {
  "kernelspec": {
   "display_name": "Python 3 (ipykernel)",
   "language": "python",
   "name": "python3"
  },
  "language_info": {
   "codemirror_mode": {
    "name": "ipython",
    "version": 3
   },
   "file_extension": ".py",
   "mimetype": "text/x-python",
   "name": "python",
   "nbconvert_exporter": "python",
   "pygments_lexer": "ipython3",
   "version": "3.9.13"
  }
 },
 "nbformat": 4,
 "nbformat_minor": 5
}
