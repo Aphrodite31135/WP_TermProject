{
 "cells": [
  {
   "cell_type": "markdown",
   "id": "8757ea8b",
   "metadata": {},
   "source": [
    "# 2022년 2학기 텀 프로젝트_최종 보고서"
   ]
  },
  {
   "cell_type": "markdown",
   "id": "8aecc0e6",
   "metadata": {},
   "source": [
    "# 목차\n",
    "\n",
    "\n",
    "## 1. 주제\n",
    "\n",
    "\n",
    "## 2. 가설 정의\n",
    "\n",
    "\n",
    "## 3. 인터넷을 통한 데이터 획득\n",
    "\n",
    "\n",
    "## 4. 데이터의 가공과 분석, 그리고 결과 및 결론\n",
    "\n",
    "\n",
    "## 5. 참고 문헌"
   ]
  },
  {
   "cell_type": "markdown",
   "id": "2ed6d38f",
   "metadata": {},
   "source": [
    "## 1. 주제 및 주제 선정 이유\n",
    "\n",
    "### 한국 성범죄 데이터 분석\n",
    "\n",
    "\n",
    "주제는 프로포절에 작성한대로 한국 범죄, 그 중에서도 성범죄를 주제로 하였다.\n",
    "\n",
    "\n",
    "가설을 세운 이유:\n",
    "\n",
    "대학에 입학하고 여러 사람을 만나다보니 한 분야에 뛰어난 사람들을 선망하게 되었다. 나도 저렇게 지식을 갖춘 사회인이 되어야지라는 생각에 내 삶에 '매일 뉴스와 신문 두 개씩 보기'와 같은 작고 사소한 규칙을 추가하였다. 작고 사소한 일이었지만 매일 꾸준히 하기에는 귀찮기도 하고 누구랑 약속을 한 것도 아닌데 굳이 할 필요가 있을까? 싶어 안 지킬 때도 많았다. 그러나 꾸준히 노력한 결과 해가 지나면서 내 새로운 습관으로 자리 잡았다. 신문이나 뉴스를 보며 가장 많이 접한 기사는 범죄 기사였다. 범죄 기사, 특히 성범죄 기사를 자주 접하다보니 자연스럽게 범죄 심리학에 관심이 생겼다. 평소 FBI 드라마 시리즈를 재밌게 본 영향도 있는 것 같다. 내가 진짜 공부를 미친듯이 했더라면... 하는 후회와 함께 나도 언젠가 기회가 된다면 저 사람들처럼 전문적으로 하는 건 아니더라도 나름대로의 가설을 세우고 정보를 수집해보고 싶다고 생각했다. 그러다 정말 우연히 수업 시간에 데이터 분석을 하게 되어서 위와 같은 주제를 선정하게 되었다.\n"
   ]
  },
  {
   "cell_type": "markdown",
   "id": "7d7d9d72",
   "metadata": {},
   "source": [
    "## 2. 가설 정의\n",
    "\n",
    "\n",
    " 내가 선정한 주제를 통해 증명하고자 하는 명제는 다음과 같다.\n",
    " \n",
    " \n",
    " ##### (1). 성범죄자는 여성보다 남성이 훨씬 많을 것이다.\n",
    " \n",
    "  보통 뉴스나 신문 기사에 보도되거나 각종 범죄를 다루는 프로그램에 등장하는 성범죄자는 여자보다 남자의 수가 많았기 때문에 자연스럽게 성범죄자는 남성이 많을 거라는 생각이 머릿속에 자리 잡았다.때문에 나는 이와 같은 가설을 세웠다.\n",
    " \n",
    " \n",
    " ##### (2). 성범죄자의 연령대는 30대에서 40대가 가장 높을 것이다.\n",
    " \n",
    " 디지털 성범죄를 제외하고 생각해보면 막 20대가 된 애들보다 30대에서 40대가 아무래도 성범죄자 비율이 높을 것 같다고 생각했다. 10대나 60~70대에는 성범죄자가 거의 없을 것 같다. \n",
    " \n",
    " \n",
    " ##### (3). 성범죄자는 항구가 있는 도시에 많이 거주하고 있을 것이다.\n",
    " \n",
    " 나는 중학교 3학년 이전까지 쭉 인천에서 살았다. 인천에는 차이나타운과 항구가 존재했기 때문에 자연스럽게 다양한 범죄자들이 존재했고 범죄자들 중에서도 특히 성범죄자가 많았다. 집 주변이나 학교 근처는 물론이고 동네 이곳저곳에 범죄자들이 살고 있다는 우편이 날아왔다. 그럴 때마다 어른들은 이 주변에 항구가 있어 외부로 나갔다 들어갔다 하기 좋은 장소라 범죄자들이 많이 사는 거라고 말씀해주셨다. 그렇게 인천에서 살다가 용인으로 이사를 가고 나서는 범죄자 관련 우편을 받아본 적이 없다. 주변이 온통 산이랑 하천이라 그런지 동네 분위기가 엄청 밝았고 사람들도 친절하고 좋았다. 때문에 어렸을 때부터 듣고 자란 어른들의 말을 확신하게 되었고 다음과 같은 가설을 세웠다.\n",
    " \n",
    " \n",
    " ##### (4). 성범죄자는 성범죄를 저지르기 이전에도 전과를 저지른 적이 있을 것이다.\n",
    " \n",
    "  영화나 드라마를 보면 연쇄 살인범이 인형이나 동물을 죽이는 데서부터 범죄를 시작하듯 모든 범죄자들에게는 시작이 존재할 것이라고 생각한다. 때문에 대부분의 성범죄자가 성범죄를 저지르기 이전에 다른 전과를 저질렀을 것이다라는 가설을 세웠다."
   ]
  },
  {
   "cell_type": "markdown",
   "id": "e23497ca",
   "metadata": {},
   "source": [
    "## 3. 인터넷을 통한 데이터 획득\n",
    "\n",
    " 내가 인터넷에서 데이터를 획득한 방법은 다음과 같다."
   ]
  },
  {
   "cell_type": "markdown",
   "id": "12c23032",
   "metadata": {},
   "source": [
    "### 1. 검색창에 일일이 검색하기\n",
    "\n",
    " 내가 제일 먼저 시도한 방법은 검색창에 내가 원하는 데이터를 검색하고 링크를 타고 들어가는 것이었다. 허나 해당 방법은 내가 하나하나 검색해야 한다는 번거로움이 있었다.또한 나는 주로 구글을 통해 데이터를 획득하였는데 구글은 사이트 특성상 검색 결과가 제목과 내용이 함께 화면에 뜨기 때문에 이것이 나에게 필요한 데이터인지 아닌지 한 번에 파악하기가 어려웠다. 그래서 나는 해당 데이터 수집 방법은 비효율적이라고 생각하였고 다른 방법을 찾기로 했다.\n",
    " \n",
    " ### 2. 자동 검색 프로그램 만들기\n",
    "  두 번째로 내가 사용한 방법은 셀레니움과 BeautifulSoup을 통한 자동 검색 프로그램을 만드는 것이었다. 제일 처음 내가 만든 코드는 다음과 같다."
   ]
  },
  {
   "cell_type": "code",
   "execution_count": null,
   "id": "71e8ae40",
   "metadata": {},
   "outputs": [],
   "source": [
    "from urllib.parse import quote_plus\n",
    "from bs4 import BeautifulSoup\n",
    "from selenium import webdriver\n",
    "\n",
    "baseUr1 = 'https://www.google.com/search?q='\n",
    "plusUr1 = input('검색하고 싶은 내용은? :')\n",
    "url = baseUr1 + quote_plus(plusUr1)\n",
    "\n",
    "driver = webdriver.Chrome()\n",
    "driver.get(url)\n",
    "\n",
    "html = driver.page_source\n",
    "soup = BeautifulSoup(html)\n",
    "\n",
    "r = soup.select('.r')\n",
    "for i in r:\n",
    "    print(i.select_one('.ellip').text)\n",
    "    print(i.select_one('.iUh30.bc').text)\n",
    "    print(i.attrs['href'])\n",
    "    print()"
   ]
  },
  {
   "cell_type": "markdown",
   "id": "9ad75b24",
   "metadata": {},
   "source": [
    "그러나 이 코드는 검색하고 싶은 데이터를 자동으로 입력하고 검색하는 것을 제외하면 처음 내가 하던 방법과 차이가 없었다.때문에 데이터 수집에 이 프로그램을 굳이 사용할 필요가 없다고 느꼈다. 그래서 나는 코드를 조금 더 추가해서 자동으로 검색을 해줄 뿐만 아니라 여러 링크와 제목까지 따오는 코드를 작성하였다."
   ]
  },
  {
   "cell_type": "markdown",
   "id": "296ad99a",
   "metadata": {},
   "source": [
    "### 3. 자동 검색 프로그램 만들기 (+ 추가적인 코드 작성)\n",
    "\n",
    " 내가 새롭게 추가하여 작성한 코드는 다음과 같다."
   ]
  },
  {
   "cell_type": "code",
   "execution_count": null,
   "id": "230e75c5",
   "metadata": {},
   "outputs": [],
   "source": [
    "import urllib.parse\n",
    "from bs4 import BeautifulSoup\n",
    "from selenium import webdriver\n",
    "import time\n",
    "\n",
    "site_ur1 = 'https://www.google.com/search?q='\n",
    "plus_url = input('검색하고 싶은 내용은? :')\n",
    "url = site_ur1 + urllib.parse.quote_plus(plus_url)\n",
    "\n",
    "print(url)\n",
    "\n",
    "driver = webdriver.Chrome()\n",
    "driver.get(url)\n",
    "\n",
    "htm1 = driver.page_source\n",
    "soup = BeautifulSoup(htm1)\n",
    "\n",
    "r = soup.select('.tF2Cxc')\n",
    "\n",
    "print(type(r))\n",
    "\n",
    "for i in r:\n",
    "    print(i.select_one('.LC20lb.MBeuO.DKV0Md').text)\n",
    "    print(i.a.attrs['href'])\n",
    "    print()\n",
    "\n",
    "driver.close()"
   ]
  },
  {
   "cell_type": "markdown",
   "id": "01c517a1",
   "metadata": {},
   "source": [
    "해당 코드는 자동으로 사이트에 들어가 데이터를 검색해주고 여러 URL과 제목을 가져와준다. 또한 몇 초 뒤에 검색창을 자동으로 닫아주는데 제일 마지막에 있는 driver.close()을 주석 처리하거나 삭제하면 검색창을 계속 띄워놓을 수 있다. 프로그램에 원하는 데이터만 입력하면 자동으로 입력해주는데다가 여러 링크를 뽑아와서 가져와주니 처음보다 쉽게 데이터를 수집할 수 있었다."
   ]
  },
  {
   "cell_type": "markdown",
   "id": "a925c674",
   "metadata": {},
   "source": [
    "사실 이 이후에 엑셀로 정리하는 코드를 작성해보았는데 뭐가 잘못된 것인지 엑셀 파일은 잘 만들어지나 엑셀 안에 제목과 링크가 저장되지 않았다. 내 힘으로 풀어내보려 하였으나 실패하였다."
   ]
  },
  {
   "cell_type": "code",
   "execution_count": null,
   "id": "47dcdd88",
   "metadata": {},
   "outputs": [],
   "source": [
    "from openpyxl import Workbook\n",
    "from bs4 import BeautifulSoup\n",
    "from selenium import webdriver\n",
    "driver = webdriver.Chrome('chromedriver')\n",
    "\n",
    "url = \"https://www.google.com/search?q=\"\n",
    "driver.get(url)\n",
    "req = driver.page_source\n",
    "soup = BeautifulSoup(req, 'html.parser')\n",
    "\n",
    "wb = Workbook()\n",
    "ws1 = wb.active\n",
    "ws1.title = \"UR1\"\n",
    "ws1.append([\"제목\", \"링크\"])\n",
    "\n",
    "Ur1_2 = soup.select('.tF2Cxc')\n",
    "\n",
    "for article in Ur1_2:\n",
    "    title = article.select_one('div.news_wrap.api_ani_send > div > a').text\n",
    "    url = article.select_one('div.news_wrap.api_ani_send > div > a')['href']\n",
    "    ws1.append([title, url])\n",
    "\n",
    "driver.quit()\n",
    "wb.save(filename='URL.xlsx')"
   ]
  },
  {
   "cell_type": "markdown",
   "id": "b45280e9",
   "metadata": {},
   "source": [
    "## 4. 데이터의 가공과 분석, 그리고 결과 및 결론\n",
    "\n",
    "\n",
    "\n",
    "### (1). 성범죄자는 여성보다 남성이 훨씬 많을 것이다.\n",
    " 해당 가설에 대한 데이터를 그래프로 시각화 해보았다."
   ]
  },
  {
   "cell_type": "code",
   "execution_count": 93,
   "id": "960242f9",
   "metadata": {},
   "outputs": [
    {
     "name": "stdout",
     "output_type": "stream",
     "text": [
      "Requirement already satisfied: pandas in c:\\users\\ilove\\anaconda3\\lib\\site-packages (1.4.2)\n",
      "Requirement already satisfied: python-dateutil>=2.8.1 in c:\\users\\ilove\\anaconda3\\lib\\site-packages (from pandas) (2.8.2)\n",
      "Requirement already satisfied: pytz>=2020.1 in c:\\users\\ilove\\anaconda3\\lib\\site-packages (from pandas) (2021.3)\n",
      "Requirement already satisfied: numpy>=1.18.5 in c:\\users\\ilove\\anaconda3\\lib\\site-packages (from pandas) (1.21.5)\n",
      "Requirement already satisfied: six>=1.5 in c:\\users\\ilove\\anaconda3\\lib\\site-packages (from python-dateutil>=2.8.1->pandas) (1.16.0)\n"
     ]
    },
    {
     "data": {
      "text/html": [
       "<div>\n",
       "<style scoped>\n",
       "    .dataframe tbody tr th:only-of-type {\n",
       "        vertical-align: middle;\n",
       "    }\n",
       "\n",
       "    .dataframe tbody tr th {\n",
       "        vertical-align: top;\n",
       "    }\n",
       "\n",
       "    .dataframe thead th {\n",
       "        text-align: right;\n",
       "    }\n",
       "</style>\n",
       "<table border=\"1\" class=\"dataframe\">\n",
       "  <thead>\n",
       "    <tr style=\"text-align: right;\">\n",
       "      <th></th>\n",
       "      <th>NO</th>\n",
       "      <th>연도</th>\n",
       "      <th>남</th>\n",
       "      <th>여</th>\n",
       "    </tr>\n",
       "  </thead>\n",
       "  <tbody>\n",
       "    <tr>\n",
       "      <th>0</th>\n",
       "      <td>1</td>\n",
       "      <td>2014</td>\n",
       "      <td>1068</td>\n",
       "      <td>24</td>\n",
       "    </tr>\n",
       "    <tr>\n",
       "      <th>1</th>\n",
       "      <td>2</td>\n",
       "      <td>2015</td>\n",
       "      <td>1028</td>\n",
       "      <td>38</td>\n",
       "    </tr>\n",
       "    <tr>\n",
       "      <th>2</th>\n",
       "      <td>3</td>\n",
       "      <td>2016</td>\n",
       "      <td>1105</td>\n",
       "      <td>58</td>\n",
       "    </tr>\n",
       "    <tr>\n",
       "      <th>3</th>\n",
       "      <td>4</td>\n",
       "      <td>2017</td>\n",
       "      <td>1251</td>\n",
       "      <td>399</td>\n",
       "    </tr>\n",
       "    <tr>\n",
       "      <th>4</th>\n",
       "      <td>5</td>\n",
       "      <td>2018</td>\n",
       "      <td>1495</td>\n",
       "      <td>87</td>\n",
       "    </tr>\n",
       "    <tr>\n",
       "      <th>5</th>\n",
       "      <td>6</td>\n",
       "      <td>2019</td>\n",
       "      <td>1509</td>\n",
       "      <td>82</td>\n",
       "    </tr>\n",
       "    <tr>\n",
       "      <th>6</th>\n",
       "      <td>7</td>\n",
       "      <td>2020</td>\n",
       "      <td>2169</td>\n",
       "      <td>131</td>\n",
       "    </tr>\n",
       "    <tr>\n",
       "      <th>7</th>\n",
       "      <td>8</td>\n",
       "      <td>2021</td>\n",
       "      <td>4693</td>\n",
       "      <td>298</td>\n",
       "    </tr>\n",
       "  </tbody>\n",
       "</table>\n",
       "</div>"
      ],
      "text/plain": [
       "   NO    연도     남    여\n",
       "0   1  2014  1068   24\n",
       "1   2  2015  1028   38\n",
       "2   3  2016  1105   58\n",
       "3   4  2017  1251  399\n",
       "4   5  2018  1495   87\n",
       "5   6  2019  1509   82\n",
       "6   7  2020  2169  131\n",
       "7   8  2021  4693  298"
      ]
     },
     "execution_count": 93,
     "metadata": {},
     "output_type": "execute_result"
    }
   ],
   "source": [
    "!pip install pandas \n",
    "import pandas as pd\n",
    "\n",
    "df = pd.read_csv(\"C:/Users/ilove/Desktop/National Police Agency_Gender Status of Sexual Violence Crimes.csv\", encoding='euc-kr')\n",
    "df"
   ]
  },
  {
   "cell_type": "markdown",
   "id": "d2ead7cf",
   "metadata": {},
   "source": [
    "엑셀 파일에 있는 표를 보기 편하게 파이썬으로 가져왔다. 이를 막대 그래프로 시각화하면 아래와 같이 된다."
   ]
  },
  {
   "cell_type": "code",
   "execution_count": 7,
   "id": "b0a2baca",
   "metadata": {},
   "outputs": [
    {
     "data": {
      "image/png": "[encoded data removed]",
      "text/plain": [
       "<Figure size 432x288 with 1 Axes>"
      ]
     },
     "metadata": {
      "needs_background": "light"
     },
     "output_type": "display_data"
    }
   ],
   "source": [
    "import matplotlib.pylab as plt\n",
    "plt.bar(df['연도'],df['남'])\n",
    "plt.show()"
   ]
  },
  {
   "cell_type": "markdown",
   "id": "14a36751",
   "metadata": {},
   "source": [
    "*남자 성범죄 비율\n",
    "\n",
    "여성의 경우에도 막대 그래프로 그려보면 다음과 같이 나온다."
   ]
  },
  {
   "cell_type": "code",
   "execution_count": 8,
   "id": "46ad7683",
   "metadata": {},
   "outputs": [
    {
     "data": {
      "image/png": "[encoded data removed]",
      "text/plain": [
       "<Figure size 432x288 with 1 Axes>"
      ]
     },
     "metadata": {
      "needs_background": "light"
     },
     "output_type": "display_data"
    }
   ],
   "source": [
    "import matplotlib.pylab as plt\n",
    "plt.bar(df['연도'],df['여'])\n",
    "plt.show()"
   ]
  },
  {
   "cell_type": "markdown",
   "id": "defc41c1",
   "metadata": {},
   "source": [
    "여성 범죄자 비율과 남성 범죄자 비율을 두고 비교해보면 확연히 그 차이를 확인할 수 있다. 남성의 경우 2021년 범죄자의 수가 2020년보다 두 배 가까이 증가하였으며 매년 꾸준히 수가 증가하고 있다. 여성의 경우 2017년 수가 갑자기 급증했다가 다시 2018년에 100명 이하로 떨어졌다. 그후 150명 이하를 유지하다 2021년 250명을 넘긴다.\n",
    "\n",
    "\n"
   ]
  },
  {
   "cell_type": "code",
   "execution_count": 40,
   "id": "33902822",
   "metadata": {},
   "outputs": [
    {
     "data": {
      "image/png": "[encoded data removed]",
      "text/plain": [
       "<Figure size 432x288 with 1 Axes>"
      ]
     },
     "metadata": {},
     "output_type": "display_data"
    }
   ],
   "source": [
    "import matplotlib.pyplot as plt\n",
    "\n",
    "ratio = [1790,140]\n",
    "labels = ['Man', 'Woman']\n",
    "colors = ['#8fd9b6', '#ff9999']\n",
    "explode = [0.2, 0.05]\n",
    "\n",
    "plt.pie(ratio, labels=labels, autopct='%.1f%%',colors=colors, explode=explode, shadow=True)\n",
    "plt.show()"
   ]
  },
  {
   "cell_type": "markdown",
   "id": "f924fae3",
   "metadata": {},
   "source": [
    "남녀 모두 2014년부터 2021년까지의 범죄자 수의 평균을 구해 파이 차트를 만들었다. 한 눈에 봐도 평균의 차가 매우 큼을 확인할 수 있다"
   ]
  },
  {
   "cell_type": "markdown",
   "id": "400601aa",
   "metadata": {},
   "source": [
    "그러나 이렇게 원형 그래프로 비교 분석해도 평균의 차이가 크다는 것만 알 수 있지 성별간 년도별 차이는 알 수 없다.그렇기에 년도별 비교 분석을 해보았다."
   ]
  },
  {
   "cell_type": "code",
   "execution_count": 90,
   "id": "2d9cb641",
   "metadata": {},
   "outputs": [
    {
     "data": {
      "image/png": "[encoded data removed]",
      "text/plain": [
       "<Figure size 432x288 with 1 Axes>"
      ]
     },
     "metadata": {
      "needs_background": "light"
     },
     "output_type": "display_data"
    }
   ],
   "source": [
    "import numpy as np\n",
    "import matplotlib.pyplot as plt\n",
    "\n",
    "N = 8\n",
    "man = (1068, 1028, 1105, 1251, 1495, 1509, 2169, 4693)\n",
    "woman = (24, 38, 58, 399, 87, 82, 131, 298)\n",
    "ind = np.arange(N)\n",
    "width = 0.35\n",
    "\n",
    "p1 = plt.bar(ind-0.2, fo, width)\n",
    "p2 = plt.bar(ind+0.2, ec, width)\n",
    "\n",
    "plt.ylabel('Number of sexual offender')\n",
    "plt.title('Number of sexual offender')\n",
    "plt.xticks(ind, ('2014', '2015', '2016', '2017', '2018','2019', '2020', '2021'))\n",
    "plt.legend((p1[0], p2[0]), ('woman', 'man'))\n",
    "\n",
    "plt.show()"
   ]
  },
  {
   "cell_type": "markdown",
   "id": "879bc5d3",
   "metadata": {},
   "source": [
    "이렇게 두 가지 표를 한 번에 두고 보니 분석하기에 용이하다."
   ]
  },
  {
   "cell_type": "markdown",
   "id": "9c906acc",
   "metadata": {},
   "source": [
    " 공공데이터 포털에 올라온 데이터를 보면 2014년도부터 2021년도까지의 성범죄자 성별에 대한 자료를 분석한 결과 2014년부터 2021년까지 남성 성범죄자의 수가 여성보다 많은 년도에는 45배가량 높다. 평균적으로 남성 범죄자가 여성 범죄자보다 20배 높다. 따라서 내가 세운 가설이 맞았음을 확인할 수 있다."
   ]
  },
  {
   "cell_type": "markdown",
   "id": "fb74daae",
   "metadata": {},
   "source": [
    "### (2). 성범죄자의 연령대는 30대에서 40대가 가장 높을 것이다."
   ]
  },
  {
   "cell_type": "code",
   "execution_count": 57,
   "id": "47b7ff80",
   "metadata": {},
   "outputs": [
    {
     "data": {
      "image/png": "[encoded data removed]",
      "text/plain": [
       "<Figure size 432x288 with 1 Axes>"
      ]
     },
     "metadata": {
      "needs_background": "light"
     },
     "output_type": "display_data"
    }
   ],
   "source": [
    "import matplotlib.pyplot as plt\n",
    "plt.title(\"Age Group\")\n",
    "\n",
    "x_data=['teenager', 'twenty', 'thirty', 'forty', 'fifty']\n",
    "y_data=[2689, 5126, 3710, 3510, 3396]\n",
    "\n",
    "plt.barh(x_data,y_data)\n",
    "plt.show()"
   ]
  },
  {
   "cell_type": "markdown",
   "id": "53eea11d",
   "metadata": {},
   "source": [
    "(남녀 모두 포함한)나이대별 성범죄자의 수를 그래프로 나타냈다. 20대가 가장 많은 수를 보였고 20대 다음으로 30대 40대 50대 10대에 범죄자가 분포해있는 것을 확인할 수 있다.\n",
    "\n",
    "남성과 여성을 두고 연령별대로 비교했을 때도 남성의 수가 훨씬 많다. 내 예상과는 다르게 남녀 모두 21-30대 범죄자가 가장 많았고 20세 이하 범죄자의 수 또한 무시하지 못할만큼 많았다. 남성의 경우 강간, 유사강간, 기타 강간·강제추행은 연령대가 올라감과 동시에 수가 급격히 줄었지만 강제추행의 경우 연령대가 올라가도 그 수가 꾸준하게 높았다. 여성의 경우 대부분 31-40세와 61-70세에 수가 적고 20세 이하, 21-30세, 41-50세에 범죄자 수가 집중되어 있었다.\n",
    "\n",
    "나는 31-40대 범죄자가 많을 것이라 예상하였으나 내 예상과 다르게 20세 이하와 21-30대에 범죄자가 밀집돼 있었다."
   ]
  },
  {
   "cell_type": "markdown",
   "id": "8b4f7c8a",
   "metadata": {},
   "source": [
    "### (3). 성범죄자는 항구가 있는 도시에 많이 거주하고 있을 것이다.\n",
    "\n",
    "추후 다시 분석하여 최종 보고서에 작성하여 제출할 계획."
   ]
  },
  {
   "cell_type": "code",
   "execution_count": 85,
   "id": "860626c3",
   "metadata": {},
   "outputs": [
    {
     "data": {
      "image/png": "[encoded data removed]",
      "text/plain": [
       "<Figure size 432x288 with 1 Axes>"
      ]
     },
     "metadata": {},
     "output_type": "display_data"
    }
   ],
   "source": [
    "import matplotlib.pyplot as plt\n",
    "\n",
    "ratio = [435, 162, 150, 236, 122, 82, 60, 727, 128, 144, 173, 190, 146, 201, 232, 42]\n",
    "labels = ['서울', '부산', '대구', '인천', '광주', '대전', '울산', '경기도', '강원도','충북','충남','전북','전남','경북','경남','제주도']\n",
    "from matplotlib import font_manager, rc\n",
    "font_path = \"C:/Windows/Fonts/NGULIM.TTF\"\n",
    "font = font_manager.FontProperties(fname=font_path).get_name()\n",
    "rc('font', family=font)\n",
    "\n",
    "plt.pie(ratio, labels=labels, autopct='%.1f%%', shadow=True)\n",
    "plt.show()"
   ]
  },
  {
   "cell_type": "markdown",
   "id": "e12bddcf",
   "metadata": {},
   "source": [
    "도시별 성범죄자의 분포는 이렇다. 여기서 항구 도시만 뽑아서 보면"
   ]
  },
  {
   "cell_type": "code",
   "execution_count": 87,
   "id": "d7fa59c8",
   "metadata": {},
   "outputs": [
    {
     "data": {
      "image/png": "[encoded data removed]",
      "text/plain": [
       "<Figure size 432x288 with 1 Axes>"
      ]
     },
     "metadata": {},
     "output_type": "display_data"
    }
   ],
   "source": [
    "import matplotlib.pyplot as plt\n",
    "\n",
    "ratio = [162, 150, 236, 60, 727, 128, 173, 190, 146, 201, 232, 42]\n",
    "labels = ['부산', '대구', '인천', '울산', '경기도', '강원도','충남','전북','전남','경북','경남','제주도']\n",
    "from matplotlib import font_manager, rc\n",
    "font_path = \"C:/Windows/Fonts/NGULIM.TTF\"\n",
    "font = font_manager.FontProperties(fname=font_path).get_name()\n",
    "rc('font', family=font)\n",
    "\n",
    "plt.pie(ratio, labels=labels, autopct='%.1f%%', shadow=True)\n",
    "plt.show()"
   ]
  },
  {
   "cell_type": "markdown",
   "id": "c11e09a0",
   "metadata": {},
   "source": [
    "이렇게 된다. 생각보다 항구 도시에 범죄자들이 많이 분포해있지 않고 의외로 단순하게 인구수가 많은 도시일 수록 많은 범죄자가 살고 있음을 확인할 수 있다."
   ]
  },
  {
   "cell_type": "markdown",
   "id": "f7ae1051",
   "metadata": {},
   "source": [
    " 해당 가설을 증명하기 위해 성범죄자 알림e에 올라온 공개현황을 찾아보았다. 특별시, 광역시, 각 시도별 성범죄자 통계가 나와있어 정리하여 사용하기에 요긴하다. 항구가 있는 곳인 인천광역시와 부산광역시를 집중적으로 보았다. 부산의 경우 161명으로 꽤나 많은 수였지만 서울이나 경기도에 비하면 상당히 낮은 수였고 내가 살았던 인천의 경우 236명로 부산보다 높긴 하나 서울이나 경기도에 미치지 못하는 수였다. 경기도가 735명으로 1순위를 차지하였고 두 번째로 서울특별시가 439명으로 2등을 차지하였다. 인구가 밀집된 곳에 범죄자가 몰리는 것인가? 하는 또 다른 가설을 세워도 좋을 것 같다. 또 다른 신기한 점은 현재 우리나라 성범죄자 수가 3276명이라는 것이다. 어떻게 보면 많은 수이기도 하나 우리나라 인구수가 2021년에 5174만명인 것을 생각해보면 많지 않은 수라고 생각한다."
   ]
  },
  {
   "cell_type": "markdown",
   "id": "49244fa1",
   "metadata": {},
   "source": [
    "### (4). 성범죄자는 성범죄를 저지르기 이전에도 전과를 저지른 적이 있을 것이다.\n",
    "\n",
    "위의 가설도 가설 (1)과 같은 방식으로 데이터를 시각화해보았다."
   ]
  },
  {
   "cell_type": "code",
   "execution_count": 95,
   "id": "6b4e1f6d",
   "metadata": {},
   "outputs": [
    {
     "name": "stdout",
     "output_type": "stream",
     "text": [
      "Requirement already satisfied: pandas in c:\\users\\ilove\\anaconda3\\lib\\site-packages (1.4.2)\n",
      "Requirement already satisfied: pytz>=2020.1 in c:\\users\\ilove\\anaconda3\\lib\\site-packages (from pandas) (2021.3)\n",
      "Requirement already satisfied: python-dateutil>=2.8.1 in c:\\users\\ilove\\anaconda3\\lib\\site-packages (from pandas) (2.8.2)\n",
      "Requirement already satisfied: numpy>=1.18.5 in c:\\users\\ilove\\anaconda3\\lib\\site-packages (from pandas) (1.21.5)\n",
      "Requirement already satisfied: six>=1.5 in c:\\users\\ilove\\anaconda3\\lib\\site-packages (from python-dateutil>=2.8.1->pandas) (1.16.0)\n"
     ]
    },
    {
     "data": {
      "text/html": [
       "<div>\n",
       "<style scoped>\n",
       "    .dataframe tbody tr th:only-of-type {\n",
       "        vertical-align: middle;\n",
       "    }\n",
       "\n",
       "    .dataframe tbody tr th {\n",
       "        vertical-align: top;\n",
       "    }\n",
       "\n",
       "    .dataframe thead th {\n",
       "        text-align: right;\n",
       "    }\n",
       "</style>\n",
       "<table border=\"1\" class=\"dataframe\">\n",
       "  <thead>\n",
       "    <tr style=\"text-align: right;\">\n",
       "      <th></th>\n",
       "      <th>NO</th>\n",
       "      <th>연도</th>\n",
       "      <th>전과자</th>\n",
       "      <th>초범</th>\n",
       "    </tr>\n",
       "  </thead>\n",
       "  <tbody>\n",
       "    <tr>\n",
       "      <th>0</th>\n",
       "      <td>1</td>\n",
       "      <td>2014</td>\n",
       "      <td>466</td>\n",
       "      <td>626</td>\n",
       "    </tr>\n",
       "    <tr>\n",
       "      <th>1</th>\n",
       "      <td>2</td>\n",
       "      <td>2015</td>\n",
       "      <td>473</td>\n",
       "      <td>593</td>\n",
       "    </tr>\n",
       "    <tr>\n",
       "      <th>2</th>\n",
       "      <td>3</td>\n",
       "      <td>2016</td>\n",
       "      <td>453</td>\n",
       "      <td>710</td>\n",
       "    </tr>\n",
       "    <tr>\n",
       "      <th>3</th>\n",
       "      <td>4</td>\n",
       "      <td>2017</td>\n",
       "      <td>502</td>\n",
       "      <td>822</td>\n",
       "    </tr>\n",
       "    <tr>\n",
       "      <th>4</th>\n",
       "      <td>5</td>\n",
       "      <td>2018</td>\n",
       "      <td>598</td>\n",
       "      <td>984</td>\n",
       "    </tr>\n",
       "    <tr>\n",
       "      <th>5</th>\n",
       "      <td>6</td>\n",
       "      <td>2019</td>\n",
       "      <td>583</td>\n",
       "      <td>1008</td>\n",
       "    </tr>\n",
       "    <tr>\n",
       "      <th>6</th>\n",
       "      <td>7</td>\n",
       "      <td>2020</td>\n",
       "      <td>796</td>\n",
       "      <td>1504</td>\n",
       "    </tr>\n",
       "    <tr>\n",
       "      <th>7</th>\n",
       "      <td>8</td>\n",
       "      <td>2021</td>\n",
       "      <td>1234</td>\n",
       "      <td>3757</td>\n",
       "    </tr>\n",
       "  </tbody>\n",
       "</table>\n",
       "</div>"
      ],
      "text/plain": [
       "   NO    연도   전과자    초범\n",
       "0   1  2014   466   626\n",
       "1   2  2015   473   593\n",
       "2   3  2016   453   710\n",
       "3   4  2017   502   822\n",
       "4   5  2018   598   984\n",
       "5   6  2019   583  1008\n",
       "6   7  2020   796  1504\n",
       "7   8  2021  1234  3757"
      ]
     },
     "execution_count": 95,
     "metadata": {},
     "output_type": "execute_result"
    }
   ],
   "source": [
    "!pip install pandas \n",
    "import pandas as pd\n",
    "\n",
    "df = pd.read_csv(\"C:/Users/ilove/Desktop/National Police Agency_The status of criminal records of sexual violence crimes.csv\", encoding='euc-kr')\n",
    "df"
   ]
  },
  {
   "cell_type": "markdown",
   "id": "ea7b0aa1",
   "metadata": {},
   "source": [
    "우선 엑셀 파일을 파이썬으로 가져오면 이러한 형태를 띈다. 이를 그래프로 바꾸어 보면"
   ]
  },
  {
   "cell_type": "code",
   "execution_count": 10,
   "id": "d2f0a857",
   "metadata": {},
   "outputs": [
    {
     "data": {
      "image/png": "[encoded data removed]",
      "text/plain": [
       "<Figure size 432x288 with 1 Axes>"
      ]
     },
     "metadata": {
      "needs_background": "light"
     },
     "output_type": "display_data"
    }
   ],
   "source": [
    "import matplotlib.pylab as plt\n",
    "plt.bar(df['연도'],df['전과자'])\n",
    "plt.show()"
   ]
  },
  {
   "cell_type": "markdown",
   "id": "963c6dc7",
   "metadata": {},
   "source": [
    "*전과자 그래프\n",
    "\n",
    "전과자의 경우 이러한 형태를 띄고 있으며"
   ]
  },
  {
   "cell_type": "code",
   "execution_count": 11,
   "id": "6415698b",
   "metadata": {
    "scrolled": true
   },
   "outputs": [
    {
     "data": {
      "image/png": "[encoded data removed]",
      "text/plain": [
       "<Figure size 432x288 with 1 Axes>"
      ]
     },
     "metadata": {
      "needs_background": "light"
     },
     "output_type": "display_data"
    }
   ],
   "source": [
    "import matplotlib.pylab as plt\n",
    "plt.bar(df['연도'],df['초범'])\n",
    "plt.show()"
   ]
  },
  {
   "cell_type": "markdown",
   "id": "5dade71f",
   "metadata": {},
   "source": [
    "*초범 그래프\n",
    "\n",
    "초범의 경우 이러한 형태를 띄고 있다. "
   ]
  },
  {
   "cell_type": "markdown",
   "id": "e87a8e3b",
   "metadata": {},
   "source": [
    "2014년부터 2021년의 초범과 전과자의 수의 비교 그래프를 파이썬으로 그리면 아래와 같다."
   ]
  },
  {
   "cell_type": "code",
   "execution_count": 83,
   "id": "48f86b1e",
   "metadata": {},
   "outputs": [
    {
     "data": {
      "image/png": "[encoded data removed]",
      "text/plain": [
       "<Figure size 432x288 with 1 Axes>"
      ]
     },
     "metadata": {
      "needs_background": "light"
     },
     "output_type": "display_data"
    }
   ],
   "source": [
    "import numpy as np\n",
    "import matplotlib.pyplot as plt\n",
    "\n",
    "N = 8\n",
    "fo = (466, 473, 453, 502, 598, 583, 796, 1234)\n",
    "ec = (626, 593, 710, 822, 984, 1008, 1504, 3757)\n",
    "ind = np.arange(N)\n",
    "width = 0.35\n",
    "\n",
    "p1 = plt.bar(ind-0.2, fo, width)\n",
    "p2 = plt.bar(ind+0.2, ec, width)\n",
    "\n",
    "plt.ylabel('Number of sex crimes ')\n",
    "plt.title('crime career of sex offender')\n",
    "plt.xticks(ind, ('2014', '2015', '2016', '2017', '2018','2019', '2020', '2021'))\n",
    "plt.legend((p1[0], p2[0]), ('first offense', 'ex-convict'))\n",
    "\n",
    "plt.show()"
   ]
  },
  {
   "cell_type": "markdown",
   "id": "96f07a52",
   "metadata": {},
   "source": [
    "따로 따로 그래프를 그려서 봤을 때보다 같이 그래프를 두고 분석하니 차이가 확연하다. 성범죄자의 수는 초범보다 전과자의 수가 더 많음을 알 수 있다."
   ]
  },
  {
   "cell_type": "markdown",
   "id": "9d3ba314",
   "metadata": {},
   "source": [
    "전과자의 경우 꾸준하게 2020년까지 그 수가 1000명 이하이지만 2021년 갑자기 1000명을 넘기는 것을 확인할 수 있다. 반대로 초범의 경우 2014년부터 600명을 훌쩍 넘는 수를 보여주며 2019년 그 수가 1000명을 넘기는 것을 확인할 수 있다. 그래프를 보면 2021년 갑자기 범죄율이 전 해인 2020년보다 두 배 증가한 것을 확인할 수 있다."
   ]
  },
  {
   "cell_type": "markdown",
   "id": "61bbc9b7",
   "metadata": {},
   "source": [
    "나는 (1)번 가설과 마찬가지로 공공테이터포털에 올라온 경찰청 연도별 성폭력 범죄 연도별 건수 현황자료를 찾아 분석하였다. 나는 가설을 세울 당시 전과를 이미 저지른 사람들이 성범죄를 저질렀을 확률이 높을 것이라고 생각했으나 2014년부터 2021년의 데이터를 보았을 때 초범의 경우가 훨씬 많았다. 초범의 수가 전과자의 수보다 평균적으로 대략 2배 높은 것을 확인할 수 있었다."
   ]
  },
  {
   "cell_type": "markdown",
   "id": "e22456a5",
   "metadata": {},
   "source": [
    "*해당 그래프 두 가지를 한 그래프에 그려넣어 비교 분석하는 것을 최종 보고서에 넣을 예정"
   ]
  },
  {
   "cell_type": "markdown",
   "id": "3085d64f",
   "metadata": {},
   "source": [
    "## 5. 참고 문헌 및 데이터 출처 / 참고 사이트\n",
    "\n",
    "참고 문헌-\n",
    "\"Do it! 데이터 분석을 위한 판다스 입문\", 다니엘 첸 저/김영하 역, 이지스퍼블리싱, 2018년 10월 11일 출간<br>\n",
    "https://product.kyobobook.co.kr/detail/S000001817905<br>\n",
    "\n",
    "\"Matplotlib Tutorial - 파이썬으로 데이터 시각화하기\", 지은이 : Dardao\n",
    "최종 편집일시 : 2022년 9월 18일\n",
    "https://wikidocs.net/book/5011\n",
    "\n",
    "\n",
    "참고 사이트-\n",
    "파이썬 구글 크롤링 selenium beautifulsoup 웹스크래핑/ 프로그래머 김플 스튜디오\n",
    "https://youtu.be/3b_VMk3WlNY\n",
    "\n",
    "\n",
    "경찰철_성폭력범죄 범죄자 성별 현황_공공데이터포털:\n",
    " https://www.data.go.kr/data/15066426/fileData.do\n",
    " \n",
    " 범죄자 범행시 성별 연령_통계청: https://kosis.kr/statHtml/statHtml.do?orgId=132&tblId=DT_13204_4110\n",
    " \n",
    " 특별시, 광역시/도 성범죄자 통계_성범죄자 알림e:\n",
    " https://m.sexoffender.go.kr/m1s5.nsc \n",
    " \n",
    "  경찰청_성폭력범죄 범죄자 전과 유무 현황_공공데이터포털:\n",
    " https://www.data.go.kr/data/15066428/fileData.do"
   ]
  }
 ],
 "metadata": {
  "kernelspec": {
   "display_name": "Python 3 (ipykernel)",
   "language": "python",
   "name": "python3"
  },
  "language_info": {
   "codemirror_mode": {
    "name": "ipython",
    "version": 3
   },
   "file_extension": ".py",
   "mimetype": "text/x-python",
   "name": "python",
   "nbconvert_exporter": "python",
   "pygments_lexer": "ipython3",
   "version": "3.9.12"
  }
 },
 "nbformat": 4,
 "nbformat_minor": 5
}
