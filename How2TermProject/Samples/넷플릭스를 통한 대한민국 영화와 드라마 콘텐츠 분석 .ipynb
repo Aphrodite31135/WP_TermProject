{
 "cells": [
  {
   "cell_type": "markdown",
   "id": "fed03ec1",
   "metadata": {},
   "source": [
    "# 넷플릭스를 통한 대한민국 영화와 드라마 콘텐츠 분석 "
   ]
  },
  {
   "cell_type": "markdown",
   "id": "edccde24",
   "metadata": {},
   "source": [
    "## 주제 선정이유\n",
    "최근 케이팝이나 한류 드라마 혹은 영화가 전세계적으로 주목을 받으면서 한류콘텐츠가 급부상하고 있다. 그 중에서 대한민국 드라마와 영화는 넷플릭스를 통해 다양한 나라에 공급되고 있다. 따라서 넷플릭스의 영화, 드라마 데이터를 가지고 대한민국 드라마와 영황에 대해 더 알아보려고 한다."
   ]
  },
  {
   "cell_type": "markdown",
   "id": "d71e7ed5",
   "metadata": {},
   "source": [
    "## 가설 혹은 명제\n",
    "#### 가설1. 대한민국 영화와 드라마의 수요가 가장 높은 지역은 대한민국이 속해있는 아시아일 것이다.\n",
    "#### 가설2. 대한민국 영화와 드라마의 수요가 가장 높은 나라는 대한민국과 가장 근접한 일본일 것이다.\n",
    "#### 가설3.  아시아는 다른 지역과 다르게 오징어 게임 출시 이후와 이전의 대한민국 영화와 드라마의 수요 차이가 가장 적을 것이다."
   ]
  },
  {
   "cell_type": "markdown",
   "id": "6984f3b4",
   "metadata": {},
   "source": [
    "## 인터넷을 통한 데이터 획득\n",
    "\n",
    "top10.netflix.com에서 2021.7.6~2022.10.23까지 각 나라별 영화, 드라마 Top 10 모음을 다운받았다."
   ]
  },
  {
   "cell_type": "markdown",
   "id": "a00a44f5",
   "metadata": {},
   "source": [
    "## 분석을 위한 데이터 가공\n",
    "\n",
    "먼저 top10.netflix.com에서 2021.7.6~2022.10.23까지 각 나라별 영화, 드라마 Top 10 모음을 다운받았다. 그 이후에 엑셀로 영화, 드라마 이름의 값이 중복되지 않도록 정리하였다. 정리한 결과, 영화, 드라마가 약 3700개였다. 약 3700개의 영화, 드라마를 인터넷에 검색해서 대한민국 영화, 드라마 콘텐츠를 엄선하였다. 엄선한 결과 대한민국 영화, 드라마는 약 170개였다. 그 이후 내가 선정한 나라들의 데이터에서 대한민국 영화, 드라마 콘텐츠만 골라내였다.\n",
    "\n",
    "(엑셀로 가공한 데이터는 별첨)"
   ]
  },
  {
   "cell_type": "code",
   "execution_count": 1,
   "id": "be9f0e2c",
   "metadata": {},
   "outputs": [
    {
     "data": {
      "text/html": [
       "<div>\n",
       "<style scoped>\n",
       "    .dataframe tbody tr th:only-of-type {\n",
       "        vertical-align: middle;\n",
       "    }\n",
       "\n",
       "    .dataframe tbody tr th {\n",
       "        vertical-align: top;\n",
       "    }\n",
       "\n",
       "    .dataframe thead th {\n",
       "        text-align: right;\n",
       "    }\n",
       "</style>\n",
       "<table border=\"1\" class=\"dataframe\">\n",
       "  <thead>\n",
       "    <tr style=\"text-align: right;\">\n",
       "      <th></th>\n",
       "      <th>country_name</th>\n",
       "      <th>week</th>\n",
       "      <th>weekly_rank</th>\n",
       "      <th>show_title</th>\n",
       "    </tr>\n",
       "  </thead>\n",
       "  <tbody>\n",
       "    <tr>\n",
       "      <th>0</th>\n",
       "      <td>Japan</td>\n",
       "      <td>2022-10-23</td>\n",
       "      <td>5</td>\n",
       "      <td>20th Century Girl</td>\n",
       "    </tr>\n",
       "    <tr>\n",
       "      <th>1</th>\n",
       "      <td>Japan</td>\n",
       "      <td>2022-10-23</td>\n",
       "      <td>1</td>\n",
       "      <td>Little Women</td>\n",
       "    </tr>\n",
       "    <tr>\n",
       "      <th>2</th>\n",
       "      <td>Japan</td>\n",
       "      <td>2022-10-23</td>\n",
       "      <td>3</td>\n",
       "      <td>Missing: The Other Side</td>\n",
       "    </tr>\n",
       "    <tr>\n",
       "      <th>3</th>\n",
       "      <td>Japan</td>\n",
       "      <td>2022-10-23</td>\n",
       "      <td>4</td>\n",
       "      <td>Extraordinary Attorney Woo</td>\n",
       "    </tr>\n",
       "    <tr>\n",
       "      <th>4</th>\n",
       "      <td>Japan</td>\n",
       "      <td>2022-10-23</td>\n",
       "      <td>6</td>\n",
       "      <td>Under the Queen's Umbrella</td>\n",
       "    </tr>\n",
       "    <tr>\n",
       "      <th>...</th>\n",
       "      <td>...</td>\n",
       "      <td>...</td>\n",
       "      <td>...</td>\n",
       "      <td>...</td>\n",
       "    </tr>\n",
       "    <tr>\n",
       "      <th>466</th>\n",
       "      <td>Japan</td>\n",
       "      <td>2021-07-04</td>\n",
       "      <td>3</td>\n",
       "      <td>Vincenzo</td>\n",
       "    </tr>\n",
       "    <tr>\n",
       "      <th>467</th>\n",
       "      <td>Japan</td>\n",
       "      <td>2021-07-04</td>\n",
       "      <td>7</td>\n",
       "      <td>Crash Landing on You</td>\n",
       "    </tr>\n",
       "    <tr>\n",
       "      <th>468</th>\n",
       "      <td>Japan</td>\n",
       "      <td>2021-07-04</td>\n",
       "      <td>8</td>\n",
       "      <td>Nevertheless,</td>\n",
       "    </tr>\n",
       "    <tr>\n",
       "      <th>469</th>\n",
       "      <td>Japan</td>\n",
       "      <td>2021-07-04</td>\n",
       "      <td>9</td>\n",
       "      <td>Love (ft. Marriage and Divorce)</td>\n",
       "    </tr>\n",
       "    <tr>\n",
       "      <th>470</th>\n",
       "      <td>Japan</td>\n",
       "      <td>2021-07-04</td>\n",
       "      <td>10</td>\n",
       "      <td>Itaewon Class</td>\n",
       "    </tr>\n",
       "  </tbody>\n",
       "</table>\n",
       "<p>471 rows × 4 columns</p>\n",
       "</div>"
      ],
      "text/plain": [
       "    country_name        week  weekly_rank                       show_title\n",
       "0          Japan  2022-10-23            5                20th Century Girl\n",
       "1          Japan  2022-10-23            1                     Little Women\n",
       "2          Japan  2022-10-23            3          Missing: The Other Side\n",
       "3          Japan  2022-10-23            4       Extraordinary Attorney Woo\n",
       "4          Japan  2022-10-23            6       Under the Queen's Umbrella\n",
       "..           ...         ...          ...                              ...\n",
       "466        Japan  2021-07-04            3                         Vincenzo\n",
       "467        Japan  2021-07-04            7             Crash Landing on You\n",
       "468        Japan  2021-07-04            8                    Nevertheless,\n",
       "469        Japan  2021-07-04            9  Love (ft. Marriage and Divorce)\n",
       "470        Japan  2021-07-04           10                    Itaewon Class\n",
       "\n",
       "[471 rows x 4 columns]"
      ]
     },
     "execution_count": 1,
     "metadata": {},
     "output_type": "execute_result"
    }
   ],
   "source": [
    "import pandas as pd \n",
    "\n",
    "df_Japan=pd.read_excel(\"./Japan netflix top 10.xlsx\")\n",
    "\n",
    "df_Japan"
   ]
  },
  {
   "cell_type": "markdown",
   "id": "97ea3428",
   "metadata": {},
   "source": [
    "엑셀로 분석한 데이터는 다음과 같은 형태이다. 다음 형식의 데이터에서 분석의 편리함을 위해 week의 부분을 year, month, day로 분리하기로 하였다. 또한 year, month, day의 type을 int로 바꾸어주었다. "
   ]
  },
  {
   "cell_type": "code",
   "execution_count": 2,
   "id": "b4dc9a98",
   "metadata": {},
   "outputs": [
    {
     "data": {
      "text/html": [
       "<div>\n",
       "<style scoped>\n",
       "    .dataframe tbody tr th:only-of-type {\n",
       "        vertical-align: middle;\n",
       "    }\n",
       "\n",
       "    .dataframe tbody tr th {\n",
       "        vertical-align: top;\n",
       "    }\n",
       "\n",
       "    .dataframe thead th {\n",
       "        text-align: right;\n",
       "    }\n",
       "</style>\n",
       "<table border=\"1\" class=\"dataframe\">\n",
       "  <thead>\n",
       "    <tr style=\"text-align: right;\">\n",
       "      <th></th>\n",
       "      <th>country_name</th>\n",
       "      <th>weekly_rank</th>\n",
       "      <th>show_title</th>\n",
       "      <th>year</th>\n",
       "      <th>month</th>\n",
       "      <th>day</th>\n",
       "    </tr>\n",
       "  </thead>\n",
       "  <tbody>\n",
       "    <tr>\n",
       "      <th>0</th>\n",
       "      <td>Japan</td>\n",
       "      <td>5</td>\n",
       "      <td>20th Century Girl</td>\n",
       "      <td>2022</td>\n",
       "      <td>10</td>\n",
       "      <td>23</td>\n",
       "    </tr>\n",
       "    <tr>\n",
       "      <th>1</th>\n",
       "      <td>Japan</td>\n",
       "      <td>1</td>\n",
       "      <td>Little Women</td>\n",
       "      <td>2022</td>\n",
       "      <td>10</td>\n",
       "      <td>23</td>\n",
       "    </tr>\n",
       "    <tr>\n",
       "      <th>2</th>\n",
       "      <td>Japan</td>\n",
       "      <td>3</td>\n",
       "      <td>Missing: The Other Side</td>\n",
       "      <td>2022</td>\n",
       "      <td>10</td>\n",
       "      <td>23</td>\n",
       "    </tr>\n",
       "    <tr>\n",
       "      <th>3</th>\n",
       "      <td>Japan</td>\n",
       "      <td>4</td>\n",
       "      <td>Extraordinary Attorney Woo</td>\n",
       "      <td>2022</td>\n",
       "      <td>10</td>\n",
       "      <td>23</td>\n",
       "    </tr>\n",
       "    <tr>\n",
       "      <th>4</th>\n",
       "      <td>Japan</td>\n",
       "      <td>6</td>\n",
       "      <td>Under the Queen's Umbrella</td>\n",
       "      <td>2022</td>\n",
       "      <td>10</td>\n",
       "      <td>23</td>\n",
       "    </tr>\n",
       "    <tr>\n",
       "      <th>...</th>\n",
       "      <td>...</td>\n",
       "      <td>...</td>\n",
       "      <td>...</td>\n",
       "      <td>...</td>\n",
       "      <td>...</td>\n",
       "      <td>...</td>\n",
       "    </tr>\n",
       "    <tr>\n",
       "      <th>466</th>\n",
       "      <td>Japan</td>\n",
       "      <td>3</td>\n",
       "      <td>Vincenzo</td>\n",
       "      <td>2021</td>\n",
       "      <td>7</td>\n",
       "      <td>4</td>\n",
       "    </tr>\n",
       "    <tr>\n",
       "      <th>467</th>\n",
       "      <td>Japan</td>\n",
       "      <td>7</td>\n",
       "      <td>Crash Landing on You</td>\n",
       "      <td>2021</td>\n",
       "      <td>7</td>\n",
       "      <td>4</td>\n",
       "    </tr>\n",
       "    <tr>\n",
       "      <th>468</th>\n",
       "      <td>Japan</td>\n",
       "      <td>8</td>\n",
       "      <td>Nevertheless,</td>\n",
       "      <td>2021</td>\n",
       "      <td>7</td>\n",
       "      <td>4</td>\n",
       "    </tr>\n",
       "    <tr>\n",
       "      <th>469</th>\n",
       "      <td>Japan</td>\n",
       "      <td>9</td>\n",
       "      <td>Love (ft. Marriage and Divorce)</td>\n",
       "      <td>2021</td>\n",
       "      <td>7</td>\n",
       "      <td>4</td>\n",
       "    </tr>\n",
       "    <tr>\n",
       "      <th>470</th>\n",
       "      <td>Japan</td>\n",
       "      <td>10</td>\n",
       "      <td>Itaewon Class</td>\n",
       "      <td>2021</td>\n",
       "      <td>7</td>\n",
       "      <td>4</td>\n",
       "    </tr>\n",
       "  </tbody>\n",
       "</table>\n",
       "<p>471 rows × 6 columns</p>\n",
       "</div>"
      ],
      "text/plain": [
       "    country_name  weekly_rank                       show_title  year  month  \\\n",
       "0          Japan            5                20th Century Girl  2022     10   \n",
       "1          Japan            1                     Little Women  2022     10   \n",
       "2          Japan            3          Missing: The Other Side  2022     10   \n",
       "3          Japan            4       Extraordinary Attorney Woo  2022     10   \n",
       "4          Japan            6       Under the Queen's Umbrella  2022     10   \n",
       "..           ...          ...                              ...   ...    ...   \n",
       "466        Japan            3                         Vincenzo  2021      7   \n",
       "467        Japan            7             Crash Landing on You  2021      7   \n",
       "468        Japan            8                    Nevertheless,  2021      7   \n",
       "469        Japan            9  Love (ft. Marriage and Divorce)  2021      7   \n",
       "470        Japan           10                    Itaewon Class  2021      7   \n",
       "\n",
       "     day  \n",
       "0     23  \n",
       "1     23  \n",
       "2     23  \n",
       "3     23  \n",
       "4     23  \n",
       "..   ...  \n",
       "466    4  \n",
       "467    4  \n",
       "468    4  \n",
       "469    4  \n",
       "470    4  \n",
       "\n",
       "[471 rows x 6 columns]"
      ]
     },
     "execution_count": 2,
     "metadata": {},
     "output_type": "execute_result"
    }
   ],
   "source": [
    "df_Japan['year']=df_Japan['week'].str[0:4].astype(int)\n",
    "df_Japan['month']=df_Japan['week'].str[5:7].astype(int)\n",
    "df_Japan['day']=df_Japan['week'].str[8:10].astype(int)\n",
    "df_Japan=df_Japan[['country_name','weekly_rank','show_title','year','month','day']]\n",
    "\n",
    "df_Japan"
   ]
  },
  {
   "cell_type": "markdown",
   "id": "ff621f84",
   "metadata": {},
   "source": [
    "또한 가설3의 분석의 편리함을 위해 각 나라별로 weekly_rank, show_title, year, month, day를 한 리스트로 묶어 그 묶음을 하나의 요소로 가지는 리스트를 만들었다.    "
   ]
  },
  {
   "cell_type": "code",
   "execution_count": 3,
   "id": "c60a51cf",
   "metadata": {},
   "outputs": [
    {
     "data": {
      "text/plain": [
       "[[5, '20th Century Girl', 2022, 10, 23],\n",
       " [1, 'Little Women', 2022, 10, 23],\n",
       " [3, 'Missing: The Other Side', 2022, 10, 23],\n",
       " [4, 'Extraordinary Attorney Woo', 2022, 10, 23],\n",
       " [6, \"Under the Queen's Umbrella\", 2022, 10, 23],\n",
       " [8, 'Crash Landing on You', 2022, 10, 23],\n",
       " [1, 'Little Women', 2022, 10, 16],\n",
       " [3, 'Extraordinary Attorney Woo', 2022, 10, 16],\n",
       " [6, 'Crash Landing on You', 2022, 10, 16],\n",
       " [7, 'Glitch', 2022, 10, 16],\n",
       " [8, 'Missing: The Other Side', 2022, 10, 16],\n",
       " [1, 'Little Women', 2022, 10, 9],\n",
       " [3, 'Extraordinary Attorney Woo', 2022, 10, 9],\n",
       " [8, 'Crash Landing on You', 2022, 10, 9],\n",
       " [9, 'Itaewon Class', 2022, 10, 9],\n",
       " [10, 'Kingdom', 2022, 10, 9],\n",
       " [1, 'Little Women', 2022, 10, 2],\n",
       " [2, 'Extraordinary Attorney Woo', 2022, 10, 2],\n",
       " [8, 'Itaewon Class', 2022, 10, 2],\n",
       " [9, 'Crash Landing on You', 2022, 10, 2],\n",
       " [1, 'Little Women', 2022, 9, 25],\n",
       " [2, 'Extraordinary Attorney Woo', 2022, 9, 25],\n",
       " [5, 'Itaewon Class', 2022, 9, 25],\n",
       " [7, 'Narco-Saints', 2022, 9, 25],\n",
       " [9, 'Alchemy of Souls', 2022, 9, 25],\n",
       " [10, 'Crash Landing on You', 2022, 9, 25],\n",
       " [1, 'Extraordinary Attorney Woo', 2022, 9, 18],\n",
       " [2, 'Little Women', 2022, 9, 18],\n",
       " [3, 'Narco-Saints', 2022, 9, 18],\n",
       " [6, 'Alchemy of Souls', 2022, 9, 18],\n",
       " [8, 'Itaewon Class', 2022, 9, 18],\n",
       " [5, 'Seoul Vibe', 2022, 9, 11],\n",
       " [1, 'Extraordinary Attorney Woo', 2022, 9, 11],\n",
       " [4, 'Little Women', 2022, 9, 11],\n",
       " [5, 'Alchemy of Souls', 2022, 9, 11],\n",
       " [8, 'Itaewon Class', 2022, 9, 11],\n",
       " [10, 'Crash Landing on You', 2022, 9, 11],\n",
       " [2, 'Seoul Vibe', 2022, 9, 4],\n",
       " [1, 'Extraordinary Attorney Woo', 2022, 9, 4],\n",
       " [2, 'Alchemy of Souls', 2022, 9, 4],\n",
       " [6, 'Itaewon Class', 2022, 9, 4],\n",
       " [9, 'Café Minamdang', 2022, 9, 4],\n",
       " [10, 'Crash Landing on You', 2022, 9, 4],\n",
       " [4, 'Seoul Vibe', 2022, 8, 28],\n",
       " [1, 'Extraordinary Attorney Woo', 2022, 8, 28],\n",
       " [2, 'Alchemy of Souls', 2022, 8, 28],\n",
       " [4, 'Café Minamdang', 2022, 8, 28],\n",
       " [5, 'Itaewon Class', 2022, 8, 28],\n",
       " [9, 'Crash Landing on You', 2022, 8, 28],\n",
       " [10, 'A Model Family', 2022, 8, 28],\n",
       " [1, 'Extraordinary Attorney Woo', 2022, 8, 21],\n",
       " [2, 'Alchemy of Souls', 2022, 8, 21],\n",
       " [3, 'Itaewon Class', 2022, 8, 21],\n",
       " [4, 'A Model Family', 2022, 8, 21],\n",
       " [6, 'Café Minamdang', 2022, 8, 21],\n",
       " [8, 'Crash Landing on You', 2022, 8, 21],\n",
       " [10, 'Remarriage & Desires', 2022, 8, 21],\n",
       " [1, 'Carter', 2022, 8, 14],\n",
       " [1, 'Extraordinary Attorney Woo', 2022, 8, 14],\n",
       " [2, 'Alchemy of Souls', 2022, 8, 14],\n",
       " [3, 'Itaewon Class', 2022, 8, 14],\n",
       " [6, 'Café Minamdang', 2022, 8, 14],\n",
       " [7, 'Crash Landing on You', 2022, 8, 14],\n",
       " [8, 'Remarriage & Desires', 2022, 8, 14],\n",
       " [4, 'Carter', 2022, 8, 7],\n",
       " [8, 'Kingdom', 2022, 8, 7],\n",
       " [1, 'Extraordinary Attorney Woo', 2022, 8, 7],\n",
       " [2, 'Alchemy of Souls', 2022, 8, 7],\n",
       " [3, 'Itaewon Class', 2022, 8, 7],\n",
       " [4, 'Remarriage & Desires', 2022, 8, 7],\n",
       " [6, 'Café Minamdang', 2022, 8, 7],\n",
       " [7, 'Crash Landing on You', 2022, 8, 7],\n",
       " [2, 'Kingdom', 2022, 7, 31],\n",
       " [1, 'Extraordinary Attorney Woo', 2022, 7, 31],\n",
       " [2, 'Itaewon Class', 2022, 7, 31],\n",
       " [3, 'Alchemy of Souls', 2022, 7, 31],\n",
       " [4, 'Remarriage & Desires', 2022, 7, 31],\n",
       " [7, 'Café Minamdang', 2022, 7, 31],\n",
       " [8, 'Crash Landing on You', 2022, 7, 31],\n",
       " [1, 'Kingdom', 2022, 7, 24],\n",
       " [1, 'Remarriage & Desires', 2022, 7, 24],\n",
       " [2, 'Extraordinary Attorney Woo', 2022, 7, 24],\n",
       " [3, 'Itaewon Class', 2022, 7, 24],\n",
       " [5, 'Alchemy of Souls', 2022, 7, 24],\n",
       " [8, 'Crash Landing on You', 2022, 7, 24],\n",
       " [10, 'Café Minamdang', 2022, 7, 24],\n",
       " [4, 'Kingdom', 2022, 7, 17],\n",
       " [1, 'Itaewon Class', 2022, 7, 17],\n",
       " [2, 'Extraordinary Attorney Woo', 2022, 7, 17],\n",
       " [3, 'Alchemy of Souls', 2022, 7, 17],\n",
       " [6, 'Remarriage & Desires', 2022, 7, 17],\n",
       " [9, 'Crash Landing on You', 2022, 7, 17],\n",
       " [10, 'Oh My Baby', 2022, 7, 17],\n",
       " [1, 'Itaewon Class', 2022, 7, 10],\n",
       " [3, 'Extraordinary Attorney Woo', 2022, 7, 10],\n",
       " [4, 'Alchemy of Souls', 2022, 7, 10],\n",
       " [5, 'Money Heist: Korea - Joint Economic Area', 2022, 7, 10],\n",
       " [8, 'Oh My Baby', 2022, 7, 10],\n",
       " [2, 'Money Heist: Korea - Joint Economic Area', 2022, 7, 3],\n",
       " [4, 'Alchemy of Souls', 2022, 7, 3],\n",
       " [5, 'Itaewon Class', 2022, 7, 3],\n",
       " [7, 'Crash Landing on You', 2022, 7, 3],\n",
       " [8, 'Our Blues', 2022, 7, 3],\n",
       " [4, 'Secret Garden', 2022, 6, 26],\n",
       " [5, 'Our Blues', 2022, 6, 26],\n",
       " [6, 'Alchemy of Souls', 2022, 6, 26],\n",
       " [7, 'Itaewon Class', 2022, 6, 26],\n",
       " [9, 'Money Heist: Korea - Joint Economic Area', 2022, 6, 26],\n",
       " [10, 'Crash Landing on You', 2022, 6, 26],\n",
       " [3, 'Our Blues', 2022, 6, 19],\n",
       " [5, 'Itaewon Class', 2022, 6, 19],\n",
       " [6, 'Secret Garden', 2022, 6, 19],\n",
       " [7, 'Crash Landing on You', 2022, 6, 19],\n",
       " [4, 'Our Blues', 2022, 6, 12],\n",
       " [5, 'Itaewon Class', 2022, 6, 12],\n",
       " [7, 'Crash Landing on You', 2022, 6, 12],\n",
       " [10, \"Green Mothers' Club\", 2022, 6, 12],\n",
       " [3, 'Our Blues', 2022, 6, 5],\n",
       " [7, 'My Liberation Notes', 2022, 6, 5],\n",
       " [8, \"Green Mothers' Club\", 2022, 6, 5],\n",
       " [9, 'Itaewon Class', 2022, 6, 5],\n",
       " [10, 'Crash Landing on You', 2022, 6, 5],\n",
       " [3, \"Green Mothers' Club\", 2022, 5, 29],\n",
       " [4, 'Our Blues', 2022, 5, 29],\n",
       " [6, 'My Liberation Notes', 2022, 5, 29],\n",
       " [9, 'Itaewon Class', 2022, 5, 29],\n",
       " [10, 'Crash Landing on You', 2022, 5, 29],\n",
       " [9, 'Cyber Hell: Exposing an Internet Horror', 2022, 5, 22],\n",
       " [2, \"Green Mothers' Club\", 2022, 5, 22],\n",
       " [4, 'Our Blues', 2022, 5, 22],\n",
       " [5, 'Itaewon Class', 2022, 5, 22],\n",
       " [6, 'Business Proposal', 2022, 5, 22],\n",
       " [7, 'Crash Landing on You', 2022, 5, 22],\n",
       " [8, 'My Liberation Notes', 2022, 5, 22],\n",
       " [2, \"Green Mothers' Club\", 2022, 5, 15],\n",
       " [3, 'Business Proposal', 2022, 5, 15],\n",
       " [4, 'Itaewon Class', 2022, 5, 15],\n",
       " [6, 'Our Blues', 2022, 5, 15],\n",
       " [7, 'The Sound of Magic', 2022, 5, 15],\n",
       " [8, 'Crash Landing on You', 2022, 5, 15],\n",
       " [10, 'Twenty Five Twenty One', 2022, 5, 15],\n",
       " [2, 'Business Proposal', 2022, 5, 8],\n",
       " [3, 'Crash Landing on You', 2022, 5, 8],\n",
       " [5, 'Itaewon Class', 2022, 5, 8],\n",
       " [6, 'Love (ft. Marriage and Divorce)', 2022, 5, 8],\n",
       " [7, \"Green Mothers' Club\", 2022, 5, 8],\n",
       " [9, 'Our Blues', 2022, 5, 8],\n",
       " [2, 'Business Proposal', 2022, 5, 1],\n",
       " [3, 'Love (ft. Marriage and Divorce)', 2022, 5, 1],\n",
       " [4, 'Crash Landing on You', 2022, 5, 1],\n",
       " [5, 'Itaewon Class', 2022, 5, 1],\n",
       " [7, 'Forecasting Love and Weather', 2022, 5, 1],\n",
       " [8, 'Twenty Five Twenty One', 2022, 5, 1],\n",
       " [9, 'Thirty-Nine', 2022, 5, 1],\n",
       " [1, 'Business Proposal', 2022, 4, 24],\n",
       " [3, 'Forecasting Love and Weather', 2022, 4, 24],\n",
       " [4, 'Thirty-Nine', 2022, 4, 24],\n",
       " [5, 'Twenty Five Twenty One', 2022, 4, 24],\n",
       " [6, 'Crash Landing on You', 2022, 4, 24],\n",
       " [10, 'Love (ft. Marriage and Divorce)', 2022, 4, 24],\n",
       " [1, 'Business Proposal', 2022, 4, 17],\n",
       " [2, 'Forecasting Love and Weather', 2022, 4, 17],\n",
       " [3, 'Thirty-Nine', 2022, 4, 17],\n",
       " [4, 'Twenty Five Twenty One', 2022, 4, 17],\n",
       " [7, 'Crash Landing on You', 2022, 4, 17],\n",
       " [9, 'Itaewon Class', 2022, 4, 17],\n",
       " [10, 'Love (ft. Marriage and Divorce)', 2022, 4, 17],\n",
       " [1, 'Business Proposal', 2022, 4, 10],\n",
       " [2, 'Forecasting Love and Weather', 2022, 4, 10],\n",
       " [3, 'Twenty Five Twenty One', 2022, 4, 10],\n",
       " [4, 'Thirty-Nine', 2022, 4, 10],\n",
       " [5, 'Crash Landing on You', 2022, 4, 10],\n",
       " [7, 'Itaewon Class', 2022, 4, 10],\n",
       " [1, 'Business Proposal', 2022, 4, 3],\n",
       " [2, 'Thirty-Nine', 2022, 4, 3],\n",
       " [3, 'Forecasting Love and Weather', 2022, 4, 3],\n",
       " [4, 'Twenty Five Twenty One', 2022, 4, 3],\n",
       " [7, 'Crash Landing on You', 2022, 4, 3],\n",
       " [8, 'Itaewon Class', 2022, 4, 3],\n",
       " [1, 'Business Proposal', 2022, 3, 27],\n",
       " [2, 'Forecasting Love and Weather', 2022, 3, 27],\n",
       " [3, 'Thirty-Nine', 2022, 3, 27],\n",
       " [5, 'Twenty Five Twenty One', 2022, 3, 27],\n",
       " [6, 'Crash Landing on You', 2022, 3, 27],\n",
       " [8, 'Love (ft. Marriage and Divorce)', 2022, 3, 27],\n",
       " [10, 'Itaewon Class', 2022, 3, 27],\n",
       " [2, 'Forecasting Love and Weather', 2022, 3, 20],\n",
       " [3, 'Thirty-Nine', 2022, 3, 20],\n",
       " [4, 'Business Proposal', 2022, 3, 20],\n",
       " [6, 'Twenty Five Twenty One', 2022, 3, 20],\n",
       " [7, 'Juvenile Justice', 2022, 3, 20],\n",
       " [8, 'Crash Landing on You', 2022, 3, 20],\n",
       " [9, 'Love (ft. Marriage and Divorce)', 2022, 3, 20],\n",
       " [10, 'Itaewon Class', 2022, 3, 20],\n",
       " [6, 'The Pirates: The Last Royal Treasure', 2022, 3, 13],\n",
       " [2, 'Juvenile Justice', 2022, 3, 13],\n",
       " [3, 'Forecasting Love and Weather', 2022, 3, 13],\n",
       " [4, 'Business Proposal', 2022, 3, 13],\n",
       " [5, 'Crash Landing on You', 2022, 3, 13],\n",
       " [6, 'Twenty Five Twenty One', 2022, 3, 13],\n",
       " [7, 'Thirty-Nine', 2022, 3, 13],\n",
       " [9, 'All of Us Are Dead', 2022, 3, 13],\n",
       " [10, 'Love (ft. Marriage and Divorce)', 2022, 3, 13],\n",
       " [4, 'The Pirates: The Last Royal Treasure', 2022, 3, 6],\n",
       " [10, 'Hope', 2022, 3, 6],\n",
       " [1, 'Juvenile Justice', 2022, 3, 6],\n",
       " [2, 'Forecasting Love and Weather', 2022, 3, 6],\n",
       " [3, 'Thirty-Nine', 2022, 3, 6],\n",
       " [5, 'Crash Landing on You', 2022, 3, 6],\n",
       " [6, 'All of Us Are Dead', 2022, 3, 6],\n",
       " [7, 'Twenty Five Twenty One', 2022, 3, 6],\n",
       " [8, 'Itaewon Class', 2022, 3, 6],\n",
       " [9, 'Business Proposal', 2022, 3, 6],\n",
       " [10, 'Love (ft. Marriage and Divorce)', 2022, 3, 6],\n",
       " [3, 'Hope', 2022, 2, 27],\n",
       " [2, 'Forecasting Love and Weather', 2022, 2, 27],\n",
       " [3, 'All of Us Are Dead', 2022, 2, 27],\n",
       " [4, 'Thirty-Nine', 2022, 2, 27],\n",
       " [5, 'Crash Landing on You', 2022, 2, 27],\n",
       " [7, 'Juvenile Justice', 2022, 2, 27],\n",
       " [8, 'Itaewon Class', 2022, 2, 27],\n",
       " [9, 'Twenty Five Twenty One', 2022, 2, 27],\n",
       " [10, 'Our Beloved Summer', 2022, 2, 27],\n",
       " [1, 'Love and Leashes', 2022, 2, 20],\n",
       " [2, 'All of Us Are Dead', 2022, 2, 20],\n",
       " [4, 'Crash Landing on You', 2022, 2, 20],\n",
       " [5, 'Forecasting Love and Weather', 2022, 2, 20],\n",
       " [7, 'Thirty-Nine', 2022, 2, 20],\n",
       " [8, 'Our Beloved Summer', 2022, 2, 20],\n",
       " [9, 'Itaewon Class', 2022, 2, 20],\n",
       " [3, 'Love and Leashes', 2022, 2, 13],\n",
       " [1, 'All of Us Are Dead', 2022, 2, 13],\n",
       " [2, 'Crash Landing on You', 2022, 2, 13],\n",
       " [5, 'Our Beloved Summer', 2022, 2, 13],\n",
       " [6, 'Itaewon Class', 2022, 2, 13],\n",
       " [9, \"The King's Affection\", 2022, 2, 13],\n",
       " [10, 'Squid Game', 2022, 2, 13],\n",
       " [9, 'The Spy Gone North', 2022, 2, 6],\n",
       " [1, 'All of Us Are Dead', 2022, 2, 6],\n",
       " [2, 'Our Beloved Summer', 2022, 2, 6],\n",
       " [4, 'Crash Landing on You', 2022, 2, 6],\n",
       " [6, 'Itaewon Class', 2022, 2, 6],\n",
       " [8, 'Single’s Inferno', 2022, 2, 6],\n",
       " [9, 'Dr. Romantic', 2022, 2, 6],\n",
       " [6, 'The Divine Fury', 2022, 1, 30],\n",
       " [1, 'All of Us Are Dead', 2022, 1, 30],\n",
       " [2, 'Our Beloved Summer', 2022, 1, 30],\n",
       " [4, 'Crash Landing on You', 2022, 1, 30],\n",
       " [5, 'Single’s Inferno', 2022, 1, 30],\n",
       " [7, 'Dr. Romantic', 2022, 1, 30],\n",
       " [8, 'Itaewon Class', 2022, 1, 30],\n",
       " [9, 'Beautiful Gong Shim', 2022, 1, 30],\n",
       " [10, \"The King's Affection\", 2022, 1, 30],\n",
       " [2, 'The Divine Fury', 2022, 1, 23],\n",
       " [2, 'Our Beloved Summer', 2022, 1, 23],\n",
       " [3, 'Single’s Inferno', 2022, 1, 23],\n",
       " [4, 'Dr. Romantic', 2022, 1, 23],\n",
       " [6, 'Crash Landing on You', 2022, 1, 23],\n",
       " [7, 'Beautiful Gong Shim', 2022, 1, 23],\n",
       " [8, 'Itaewon Class', 2022, 1, 23],\n",
       " [10, \"The King's Affection\", 2022, 1, 23],\n",
       " [1, 'Single’s Inferno', 2022, 1, 16],\n",
       " [2, 'Dr. Romantic', 2022, 1, 16],\n",
       " [3, 'Our Beloved Summer', 2022, 1, 16],\n",
       " [7, 'Crash Landing on You', 2022, 1, 16],\n",
       " [8, 'Beautiful Gong Shim', 2022, 1, 16],\n",
       " [9, 'Itaewon Class', 2022, 1, 16],\n",
       " [10, \"The King's Affection\", 2022, 1, 16],\n",
       " [2, 'Single’s Inferno', 2022, 1, 9],\n",
       " [3, 'Crash Landing on You', 2022, 1, 9],\n",
       " [4, 'Our Beloved Summer', 2022, 1, 9],\n",
       " [6, 'Squid Game', 2022, 1, 9],\n",
       " [7, \"The King's Affection\", 2022, 1, 9],\n",
       " [8, 'Itaewon Class', 2022, 1, 9],\n",
       " [10, 'The Crowned Clown', 2022, 1, 9],\n",
       " [5, 'Along with the Gods: The Two Worlds', 2022, 1, 2],\n",
       " [8, 'Along with the Gods: The Last 49 Days', 2022, 1, 2],\n",
       " [2, 'Squid Game', 2022, 1, 2],\n",
       " [3, 'The Silent Sea', 2022, 1, 2],\n",
       " [5, \"The King's Affection\", 2022, 1, 2],\n",
       " [6, 'Crash Landing on You', 2022, 1, 2],\n",
       " [7, 'Our Beloved Summer', 2022, 1, 2],\n",
       " [5, 'Along with the Gods: The Two Worlds', 2021, 12, 26],\n",
       " [1, \"The King's Affection\", 2021, 12, 26],\n",
       " [6, 'Squid Game', 2021, 12, 26],\n",
       " [7, 'Our Beloved Summer', 2021, 12, 26],\n",
       " [8, 'Crash Landing on You', 2021, 12, 26],\n",
       " [10, 'Itaewon Class', 2021, 12, 26],\n",
       " [1, \"The King's Affection\", 2021, 12, 19],\n",
       " [5, 'Squid Game', 2021, 12, 19],\n",
       " [6, 'Crash Landing on You', 2021, 12, 19],\n",
       " [8, 'Itaewon Class', 2021, 12, 19],\n",
       " [9, 'Our Beloved Summer', 2021, 12, 19],\n",
       " [5, 'The Outlaws', 2021, 12, 12],\n",
       " [2, \"The King's Affection\", 2021, 12, 12],\n",
       " [5, 'Squid Game', 2021, 12, 12],\n",
       " [7, 'Crash Landing on You', 2021, 12, 12],\n",
       " [9, 'The Secret Life of My Secretary', 2021, 12, 12],\n",
       " [2, \"The King's Affection\", 2021, 12, 5],\n",
       " [4, 'Hellbound', 2021, 12, 5],\n",
       " [5, 'Squid Game', 2021, 12, 5],\n",
       " [6, 'Crash Landing on You', 2021, 12, 5],\n",
       " [7, 'The Secret Life of My Secretary', 2021, 12, 5],\n",
       " [8, 'Touch Your Heart', 2021, 12, 5],\n",
       " [9, 'Itaewon Class', 2021, 12, 5],\n",
       " [1, 'Hellbound', 2021, 11, 28],\n",
       " [2, \"The King's Affection\", 2021, 11, 28],\n",
       " [3, 'Squid Game', 2021, 11, 28],\n",
       " [4, 'Touch Your Heart', 2021, 11, 28],\n",
       " [5, 'Crash Landing on You', 2021, 11, 28],\n",
       " [6, 'My Sassy Girl', 2021, 11, 28],\n",
       " [7, 'Itaewon Class', 2021, 11, 28],\n",
       " [8, 'Hometown Cha-Cha-Cha', 2021, 11, 28],\n",
       " [6, 'The Gangster, The Cop, The Devil', 2021, 11, 21],\n",
       " [1, 'Squid Game', 2021, 11, 21],\n",
       " [2, \"The King's Affection\", 2021, 11, 21],\n",
       " [3, 'Touch Your Heart', 2021, 11, 21],\n",
       " [4, 'Hellbound', 2021, 11, 21],\n",
       " [5, 'Crash Landing on You', 2021, 11, 21],\n",
       " [7, 'Itaewon Class', 2021, 11, 21],\n",
       " [8, 'Hometown Cha-Cha-Cha', 2021, 11, 21],\n",
       " [9, 'My Name', 2021, 11, 21],\n",
       " [4, 'The Gangster, The Cop, The Devil', 2021, 11, 14],\n",
       " [1, 'Squid Game', 2021, 11, 14],\n",
       " [2, 'Touch Your Heart', 2021, 11, 14],\n",
       " [3, \"The King's Affection\", 2021, 11, 14],\n",
       " [4, 'My Name', 2021, 11, 14],\n",
       " [5, 'Crash Landing on You', 2021, 11, 14],\n",
       " [6, 'Hometown Cha-Cha-Cha', 2021, 11, 14],\n",
       " [8, 'Itaewon Class', 2021, 11, 14],\n",
       " [9, 'Search WWW', 2021, 11, 14],\n",
       " [1, 'Squid Game', 2021, 11, 7],\n",
       " [2, 'My Name', 2021, 11, 7],\n",
       " [3, \"The King's Affection\", 2021, 11, 7],\n",
       " [4, 'Hometown Cha-Cha-Cha', 2021, 11, 7],\n",
       " [6, 'Crash Landing on You', 2021, 11, 7],\n",
       " [8, 'Itaewon Class', 2021, 11, 7],\n",
       " [9, 'Search WWW', 2021, 11, 7],\n",
       " [10, 'Touch Your Heart', 2021, 11, 7],\n",
       " [1, 'Squid Game', 2021, 10, 31],\n",
       " [2, 'My Name', 2021, 10, 31],\n",
       " [3, 'Hometown Cha-Cha-Cha', 2021, 10, 31],\n",
       " [4, \"The King's Affection\", 2021, 10, 31],\n",
       " [5, 'Crash Landing on You', 2021, 10, 31],\n",
       " [8, 'Itaewon Class', 2021, 10, 31],\n",
       " [9, 'Her Private Life', 2021, 10, 31],\n",
       " [1, 'Squid Game', 2021, 10, 24],\n",
       " [2, 'Hometown Cha-Cha-Cha', 2021, 10, 24],\n",
       " [3, 'My Name', 2021, 10, 24],\n",
       " [4, 'Crash Landing on You', 2021, 10, 24],\n",
       " [5, 'Her Private Life', 2021, 10, 24],\n",
       " [6, \"The King's Affection\", 2021, 10, 24],\n",
       " [7, 'Itaewon Class', 2021, 10, 24],\n",
       " [1, 'Squid Game', 2021, 10, 17],\n",
       " [2, 'Hometown Cha-Cha-Cha', 2021, 10, 17],\n",
       " [3, 'Her Private Life', 2021, 10, 17],\n",
       " [4, 'My Name', 2021, 10, 17],\n",
       " [5, 'Crash Landing on You', 2021, 10, 17],\n",
       " [6, 'Itaewon Class', 2021, 10, 17],\n",
       " [9, \"The King's Affection\", 2021, 10, 17],\n",
       " [1, 'Squid Game', 2021, 10, 10],\n",
       " [2, 'Hometown Cha-Cha-Cha', 2021, 10, 10],\n",
       " [3, 'Her Private Life', 2021, 10, 10],\n",
       " [5, 'Crash Landing on You', 2021, 10, 10],\n",
       " [6, 'Itaewon Class', 2021, 10, 10],\n",
       " [1, 'Squid Game', 2021, 10, 3],\n",
       " [2, 'Hometown Cha-Cha-Cha', 2021, 10, 3],\n",
       " [3, 'Her Private Life', 2021, 10, 3],\n",
       " [5, 'Crash Landing on You', 2021, 10, 3],\n",
       " [6, 'Itaewon Class', 2021, 10, 3],\n",
       " [9, 'Hospital Playlist', 2021, 10, 3],\n",
       " [1, 'Squid Game', 2021, 9, 26],\n",
       " [2, 'Hometown Cha-Cha-Cha', 2021, 9, 26],\n",
       " [4, 'Crash Landing on You', 2021, 9, 26],\n",
       " [5, 'Hospital Playlist', 2021, 9, 26],\n",
       " [7, 'Itaewon Class', 2021, 9, 26],\n",
       " [10, 'Nevertheless,', 2021, 9, 26],\n",
       " [1, 'Hometown Cha-Cha-Cha', 2021, 9, 19],\n",
       " [2, 'Squid Game', 2021, 9, 19],\n",
       " [4, 'Hospital Playlist', 2021, 9, 19],\n",
       " [6, 'Crash Landing on You', 2021, 9, 19],\n",
       " [7, 'Itaewon Class', 2021, 9, 19],\n",
       " [8, 'Nevertheless,', 2021, 9, 19],\n",
       " [3, 'Hometown Cha-Cha-Cha', 2021, 9, 12],\n",
       " [4, 'Hospital Playlist', 2021, 9, 12],\n",
       " [6, 'Crash Landing on You', 2021, 9, 12],\n",
       " [7, 'Encounter', 2021, 9, 12],\n",
       " [8, 'Nevertheless,', 2021, 9, 12],\n",
       " [9, 'Itaewon Class', 2021, 9, 12],\n",
       " [2, 'Encounter', 2021, 9, 5],\n",
       " [3, 'Nevertheless,', 2021, 9, 5],\n",
       " [6, 'D.P.', 2021, 9, 5],\n",
       " [7, 'Crash Landing on You', 2021, 9, 5],\n",
       " [8, 'Hometown Cha-Cha-Cha', 2021, 9, 5],\n",
       " [9, 'Itaewon Class', 2021, 9, 5],\n",
       " [10, 'Vincenzo', 2021, 9, 5],\n",
       " [1, 'Nevertheless,', 2021, 8, 29],\n",
       " [2, 'Encounter', 2021, 8, 29],\n",
       " [4, 'Hospital Playlist', 2021, 8, 29],\n",
       " [5, 'Crash Landing on You', 2021, 8, 29],\n",
       " [6, 'Lawless Lawyer', 2021, 8, 29],\n",
       " [7, 'Vincenzo', 2021, 8, 29],\n",
       " [8, 'Itaewon Class', 2021, 8, 29],\n",
       " [9, 'D.P.', 2021, 8, 29],\n",
       " [3, 'Extreme Job', 2021, 8, 22],\n",
       " [1, 'Nevertheless,', 2021, 8, 22],\n",
       " [3, 'Encounter', 2021, 8, 22],\n",
       " [4, 'Crash Landing on You', 2021, 8, 22],\n",
       " [5, 'Hospital Playlist', 2021, 8, 22],\n",
       " [6, 'Vincenzo', 2021, 8, 22],\n",
       " [7, 'Itaewon Class', 2021, 8, 22],\n",
       " [9, 'My Country: The New Age', 2021, 8, 22],\n",
       " [1, 'Nevertheless,', 2021, 8, 15],\n",
       " [3, 'My Country: The New Age', 2021, 8, 15],\n",
       " [4, 'Crash Landing on You', 2021, 8, 15],\n",
       " [5, 'Vincenzo', 2021, 8, 15],\n",
       " [6, 'Love (ft. Marriage and Divorce)', 2021, 8, 15],\n",
       " [8, 'Itaewon Class', 2021, 8, 15],\n",
       " [9, 'Hospital Playlist', 2021, 8, 15],\n",
       " [4, 'Exit', 2021, 8, 8],\n",
       " [1, 'Nevertheless,', 2021, 8, 8],\n",
       " [3, 'My Country: The New Age', 2021, 8, 8],\n",
       " [4, 'Love (ft. Marriage and Divorce)', 2021, 8, 8],\n",
       " [7, 'Crash Landing on You', 2021, 8, 8],\n",
       " [8, 'Vincenzo', 2021, 8, 8],\n",
       " [9, 'Itaewon Class', 2021, 8, 8],\n",
       " [10, 'Hospital Playlist', 2021, 8, 8],\n",
       " [5, 'Kingdom: Ashin of the North', 2021, 8, 1],\n",
       " [1, 'Nevertheless,', 2021, 8, 1],\n",
       " [3, 'Vincenzo', 2021, 8, 1],\n",
       " [4, 'Crash Landing on You', 2021, 8, 1],\n",
       " [5, 'She was pretty', 2021, 8, 1],\n",
       " [6, 'Itaewon Class', 2021, 8, 1],\n",
       " [7, 'Love (ft. Marriage and Divorce)', 2021, 8, 1],\n",
       " [10, \"What's Wrong with Secretary Kim\", 2021, 8, 1],\n",
       " [6, 'Kingdom: Ashin of the North', 2021, 7, 25],\n",
       " [2, 'Nevertheless,', 2021, 7, 25],\n",
       " [3, 'Vincenzo', 2021, 7, 25],\n",
       " [4, 'Love (ft. Marriage and Divorce)', 2021, 7, 25],\n",
       " [5, 'She was pretty', 2021, 7, 25],\n",
       " [6, 'Crash Landing on You', 2021, 7, 25],\n",
       " [7, 'Itaewon Class', 2021, 7, 25],\n",
       " [8, 'Hospital Playlist', 2021, 7, 25],\n",
       " [5, 'Peninsula', 2021, 7, 18],\n",
       " [2, 'Nevertheless,', 2021, 7, 18],\n",
       " [3, 'Vincenzo', 2021, 7, 18],\n",
       " [4, 'She was pretty', 2021, 7, 18],\n",
       " [5, 'Love (ft. Marriage and Divorce)', 2021, 7, 18],\n",
       " [6, 'Crash Landing on You', 2021, 7, 18],\n",
       " [8, 'Mine', 2021, 7, 18],\n",
       " [9, 'Itaewon Class', 2021, 7, 18],\n",
       " [10, 'Hospital Playlist', 2021, 7, 18],\n",
       " [1, 'Peninsula', 2021, 7, 11],\n",
       " [3, 'The 8th Night', 2021, 7, 11],\n",
       " [7, 'My First Client', 2021, 7, 11],\n",
       " [3, 'Vincenzo', 2021, 7, 11],\n",
       " [4, 'Mine', 2021, 7, 11],\n",
       " [5, 'Nevertheless,', 2021, 7, 11],\n",
       " [6, 'She was pretty', 2021, 7, 11],\n",
       " [7, 'Crash Landing on You', 2021, 7, 11],\n",
       " [8, 'Love (ft. Marriage and Divorce)', 2021, 7, 11],\n",
       " [9, 'Itaewon Class', 2021, 7, 11],\n",
       " [1, 'Peninsula', 2021, 7, 4],\n",
       " [7, 'My First Client', 2021, 7, 4],\n",
       " [9, 'The 8th Night', 2021, 7, 4],\n",
       " [2, 'Mine', 2021, 7, 4],\n",
       " [3, 'Vincenzo', 2021, 7, 4],\n",
       " [7, 'Crash Landing on You', 2021, 7, 4],\n",
       " [8, 'Nevertheless,', 2021, 7, 4],\n",
       " [9, 'Love (ft. Marriage and Divorce)', 2021, 7, 4],\n",
       " [10, 'Itaewon Class', 2021, 7, 4]]"
      ]
     },
     "execution_count": 3,
     "metadata": {},
     "output_type": "execute_result"
    }
   ],
   "source": [
    "list_Japan=[]\n",
    "for i in range(0,471):\n",
    "    list_Japan.append(list(df_Japan.iloc[i,1:6]))\n",
    "    \n",
    "list_Japan"
   ]
  },
  {
   "cell_type": "markdown",
   "id": "72d879aa",
   "metadata": {},
   "source": [
    "나머지 나라들의 데이터 또한 위의 방식대로 모두 가공해주었다"
   ]
  },
  {
   "cell_type": "code",
   "execution_count": 4,
   "id": "ccec51cb",
   "metadata": {},
   "outputs": [],
   "source": [
    "df_Taiwan=pd.read_excel(\"./Taiwan netflix top 10.xlsx\")\n",
    "\n",
    "df_Taiwan['year']=df_Taiwan['week'].str[0:4].astype(int)\n",
    "df_Taiwan['month']=df_Taiwan['week'].str[5:7].astype(int)\n",
    "df_Taiwan['day']=df_Taiwan['week'].str[8:10].astype(int)\n",
    "df_Taiwan=df_Taiwan[['country_name','weekly_rank','show_title','year','month','day']]\n",
    "\n",
    "list_Taiwan=[]\n",
    "for i in range(0,416):\n",
    "    list_Taiwan.append(list(df_Taiwan.iloc[i,1:6]))"
   ]
  },
  {
   "cell_type": "code",
   "execution_count": 5,
   "id": "cdfb7495",
   "metadata": {},
   "outputs": [],
   "source": [
    "df_Vietnam=pd.read_excel(\"./Vietnam neflix top 10.xlsx\")\n",
    "\n",
    "df_Vietnam['year']=df_Vietnam['week'].str[0:4].astype(int)\n",
    "df_Vietnam['month']=df_Vietnam['week'].str[5:7].astype(int)\n",
    "df_Vietnam['day']=df_Vietnam['week'].str[8:10].astype(int)\n",
    "df_Vietnam=df_Vietnam[['country_name','weekly_rank','show_title','year','month','day']]\n",
    "\n",
    "list_Vietnam=[]\n",
    "for i in range(0,506):\n",
    "    list_Vietnam.append(list(df_Vietnam.iloc[i,1:6]))"
   ]
  },
  {
   "cell_type": "code",
   "execution_count": 6,
   "id": "3a775c91",
   "metadata": {},
   "outputs": [],
   "source": [
    "df_Canada=pd.read_excel(\"./Canada netflix top 10.xlsx\")\n",
    "\n",
    "df_Canada['year']=df_Canada['week'].str[0:4].astype(int)\n",
    "df_Canada['month']=df_Canada['week'].str[5:7].astype(int)\n",
    "df_Canada['day']=df_Canada['week'].str[8:10].astype(int)\n",
    "df_Canada=df_Canada[['country_name','weekly_rank','show_title','year','month','day']]\n",
    "\n",
    "list_Canada=[]\n",
    "for i in range(0,27):\n",
    "    list_Canada.append(list(df_Canada.iloc[i,1:6]))"
   ]
  },
  {
   "cell_type": "code",
   "execution_count": 7,
   "id": "0be0505e",
   "metadata": {},
   "outputs": [],
   "source": [
    "df_UnitedStates=pd.read_excel(\"./United States neflix top 10.xlsx\")\n",
    "\n",
    "df_UnitedStates['year']=df_UnitedStates['week'].str[0:4].astype(int)\n",
    "df_UnitedStates['month']=df_UnitedStates['week'].str[5:7].astype(int)\n",
    "df_UnitedStates['day']=df_UnitedStates['week'].str[8:10].astype(int)\n",
    "df_UnitedStates=df_UnitedStates[['country_name','weekly_rank','show_title','year','month','day']]\n",
    "\n",
    "list_UnitedStates=[]\n",
    "for i in range(0,27):\n",
    "    list_UnitedStates.append(list(df_UnitedStates.iloc[i,1:6]))"
   ]
  },
  {
   "cell_type": "code",
   "execution_count": 8,
   "id": "349d83dc",
   "metadata": {},
   "outputs": [],
   "source": [
    "df_Mexico=pd.read_excel(\"./Mexico neflix top 10.xlsx\")\n",
    "\n",
    "df_Mexico['year']=df_Mexico['week'].str[0:4].astype(int)\n",
    "df_Mexico['month']=df_Mexico['week'].str[5:7].astype(int)\n",
    "df_Mexico['day']=df_Mexico['week'].str[8:10].astype(int)\n",
    "df_Mexico=df_Mexico[['country_name','weekly_rank','show_title','year','month','day']]\n",
    "\n",
    "list_Mexico=[]\n",
    "for i in range(0,92):\n",
    "    list_Mexico.append(list(df_Mexico.iloc[i,1:6]))"
   ]
  },
  {
   "cell_type": "code",
   "execution_count": 9,
   "id": "904b8080",
   "metadata": {},
   "outputs": [],
   "source": [
    "df_Brazil=pd.read_excel(\"./Brazil neflix top 10.xlsx\")\n",
    "\n",
    "df_Brazil['year']=df_Brazil['week'].str[0:4].astype(int)\n",
    "df_Brazil['month']=df_Brazil['week'].str[5:7].astype(int)\n",
    "df_Brazil['day']=df_Brazil['week'].str[8:10].astype(int)\n",
    "df_Brazil=df_Brazil[['country_name','weekly_rank','show_title','year','month','day']]\n",
    "\n",
    "list_Brazil=[]\n",
    "for i in range(0,63):\n",
    "    list_Brazil.append(list(df_Brazil.iloc[i,1:6]))"
   ]
  },
  {
   "cell_type": "code",
   "execution_count": 10,
   "id": "a505bad7",
   "metadata": {},
   "outputs": [],
   "source": [
    "df_Chile=pd.read_excel(\"./Chile netflix top 10.xlsx\")\n",
    "\n",
    "df_Chile['year']=df_Chile['week'].str[0:4].astype(int)\n",
    "df_Chile['month']=df_Chile['week'].str[5:7].astype(int)\n",
    "df_Chile['day']=df_Chile['week'].str[8:10].astype(int)\n",
    "df_Chile=df_Chile[['country_name','weekly_rank','show_title','year','month','day']]\n",
    "\n",
    "list_Chile=[]\n",
    "for i in range(0,81):\n",
    "    list_Chile.append(list(df_Chile.iloc[i,1:6]))"
   ]
  },
  {
   "cell_type": "code",
   "execution_count": 11,
   "id": "187d0f8e",
   "metadata": {},
   "outputs": [],
   "source": [
    "df_Honduras=pd.read_excel(\"./Honduras netflix top 10.xlsx\")\n",
    "\n",
    "df_Honduras['year']=df_Honduras['week'].str[0:4].astype(int)\n",
    "df_Honduras['month']=df_Honduras['week'].str[5:7].astype(int)\n",
    "df_Honduras['day']=df_Honduras['week'].str[8:10].astype(int)\n",
    "df_Honduras=df_Honduras[['country_name','weekly_rank','show_title','year','month','day']]\n",
    "\n",
    "list_Honduras=[]\n",
    "for i in range(0,89):\n",
    "    list_Honduras.append(list(df_Honduras.iloc[i,1:6]))"
   ]
  },
  {
   "cell_type": "code",
   "execution_count": 12,
   "id": "2bb00d14",
   "metadata": {},
   "outputs": [],
   "source": [
    "df_UnitedKingdom=pd.read_excel(\"./United Kingdom netflix top 10.xlsx\")\n",
    "\n",
    "df_UnitedKingdom['year']=df_UnitedKingdom['week'].str[0:4].astype(int)\n",
    "df_UnitedKingdom['month']=df_UnitedKingdom['week'].str[5:7].astype(int)\n",
    "df_UnitedKingdom['day']=df_UnitedKingdom['week'].str[8:10].astype(int)\n",
    "df_UnitedKingdom=df_UnitedKingdom[['country_name','weekly_rank','show_title','year','month','day']]\n",
    "\n",
    "list_UnitedKingdom=[]\n",
    "for i in range(0,24):\n",
    "    list_UnitedKingdom.append(list(df_UnitedKingdom.iloc[i,1:6]))"
   ]
  },
  {
   "cell_type": "code",
   "execution_count": 13,
   "id": "a2585a6f",
   "metadata": {},
   "outputs": [],
   "source": [
    "df_France=pd.read_excel(\"./France netflix top 10.xlsx\")\n",
    "\n",
    "df_France['year']=df_France['week'].str[0:4].astype(int)\n",
    "df_France['month']=df_France['week'].str[5:7].astype(int)\n",
    "df_France['day']=df_France['week'].str[8:10].astype(int)\n",
    "df_France=df_France[['country_name','weekly_rank','show_title','year','month','day']]\n",
    "\n",
    "list_France=[]\n",
    "for i in range(0,35):\n",
    "    list_France.append(list(df_France.iloc[i,1:6]))"
   ]
  },
  {
   "cell_type": "code",
   "execution_count": 14,
   "id": "1c000677",
   "metadata": {},
   "outputs": [],
   "source": [
    "df_Germany=pd.read_excel(\"./Germany netflix top 10.xlsx\")\n",
    "\n",
    "df_Germany['year']=df_Germany['week'].str[0:4].astype(int)\n",
    "df_Germany['month']=df_Germany['week'].str[5:7].astype(int)\n",
    "df_Germany['day']=df_Germany['week'].str[8:10].astype(int)\n",
    "df_Germany=df_Germany[['country_name','weekly_rank','show_title','year','month','day']]\n",
    "\n",
    "list_Germany=[]\n",
    "for i in range(0,29):\n",
    "    list_Germany.append(list(df_Germany.iloc[i,1:6]))"
   ]
  },
  {
   "cell_type": "code",
   "execution_count": 15,
   "id": "91d7d8f5",
   "metadata": {},
   "outputs": [],
   "source": [
    "df_SouthAfrica=pd.read_excel(\"./South Africa netflix top 10.xlsx\")\n",
    "\n",
    "df_SouthAfrica['year']=df_SouthAfrica['week'].str[0:4].astype(int)\n",
    "df_SouthAfrica['month']=df_SouthAfrica['week'].str[5:7].astype(int)\n",
    "df_SouthAfrica['day']=df_SouthAfrica['week'].str[8:10].astype(int)\n",
    "df_SouthAfrica=df_SouthAfrica[['country_name','weekly_rank','show_title','year','month','day']]\n",
    "\n",
    "list_SouthAfrica=[]\n",
    "for i in range(0,39):\n",
    "    list_SouthAfrica.append(list(df_SouthAfrica.iloc[i,1:6]))"
   ]
  },
  {
   "cell_type": "code",
   "execution_count": 16,
   "id": "a5b0d7cc",
   "metadata": {},
   "outputs": [],
   "source": [
    "df_Nigeria=pd.read_excel(\"./Nigeria netflix top 10.xlsx\")\n",
    "\n",
    "df_Nigeria['year']=df_Nigeria['week'].str[0:4].astype(int)\n",
    "df_Nigeria['month']=df_Nigeria['week'].str[5:7].astype(int)\n",
    "df_Nigeria['day']=df_Nigeria['week'].str[8:10].astype(int)\n",
    "df_Nigeria=df_Nigeria[['country_name','weekly_rank','show_title','year','month','day']]\n",
    "\n",
    "list_Nigeria=[]\n",
    "for i in range(0,171):\n",
    "    list_Nigeria.append(list(df_Nigeria.iloc[i,1:6]))"
   ]
  },
  {
   "cell_type": "code",
   "execution_count": 17,
   "id": "7b056637",
   "metadata": {},
   "outputs": [],
   "source": [
    "df_Egypt=pd.read_excel(\"./Egypt netflix top 10.xlsx\")\n",
    "\n",
    "df_Egypt['year']=df_Egypt['week'].str[0:4].astype(int)\n",
    "df_Egypt['month']=df_Egypt['week'].str[5:7].astype(int)\n",
    "df_Egypt['day']=df_Egypt['week'].str[8:10].astype(int)\n",
    "df_Egypt=df_Egypt[['country_name','weekly_rank','show_title','year','month','day']]\n",
    "\n",
    "list_Egypt=[]\n",
    "for i in range(0,67):\n",
    "    list_Egypt.append(list(df_Egypt.iloc[i,1:6]))"
   ]
  },
  {
   "cell_type": "code",
   "execution_count": 18,
   "id": "4729d593",
   "metadata": {},
   "outputs": [],
   "source": [
    "df_Australia=pd.read_excel(\"./Australia netflix top 10.xlsx\")\n",
    "\n",
    "df_Australia['year']=df_Australia['week'].str[0:4].astype(int)\n",
    "df_Australia['month']=df_Australia['week'].str[5:7].astype(int)\n",
    "df_Australia['day']=df_Australia['week'].str[8:10].astype(int)\n",
    "df_Australia=df_Australia[['country_name','weekly_rank','show_title','year','month','day']]\n",
    "\n",
    "list_Australia=[]\n",
    "for i in range(0,32):\n",
    "    list_Australia.append(list(df_Australia.iloc[i,1:6]))"
   ]
  },
  {
   "cell_type": "code",
   "execution_count": 19,
   "id": "3de220f0",
   "metadata": {},
   "outputs": [],
   "source": [
    "df_NewZealand=pd.read_excel(\"./New Zealand netflix top 10.xlsx\")\n",
    "\n",
    "df_NewZealand['year']=df_NewZealand['week'].str[0:4].astype(int)\n",
    "df_NewZealand['month']=df_NewZealand['week'].str[5:7].astype(int)\n",
    "df_NewZealand['day']=df_NewZealand['week'].str[8:10].astype(int)\n",
    "df_NewZealand=df_NewZealand[['country_name','weekly_rank','show_title','year','month','day']]\n",
    "\n",
    "list_NewZealand=[]\n",
    "for i in range(0,39):\n",
    "    list_NewZealand.append(list(df_NewZealand.iloc[i,1:6]))"
   ]
  },
  {
   "cell_type": "code",
   "execution_count": 20,
   "id": "e49ad93b",
   "metadata": {},
   "outputs": [],
   "source": [
    "df_NewCaledonia=pd.read_excel(\"./New Caledonia netflix top 10.xlsx\")\n",
    "\n",
    "df_NewCaledonia['year']=df_NewCaledonia['week'].str[0:4].astype(int)\n",
    "df_NewCaledonia['month']=df_NewCaledonia['week'].str[5:7].astype(int)\n",
    "df_NewCaledonia['day']=df_NewCaledonia['week'].str[8:10].astype(int)\n",
    "df_NewCaledonia=df_NewCaledonia[['country_name','weekly_rank','show_title','year','month','day']]\n",
    "\n",
    "list_NewCaledonia=[]\n",
    "for i in range(0,47):\n",
    "    list_NewCaledonia.append(list(df_NewCaledonia.iloc[i,1:6]))"
   ]
  },
  {
   "cell_type": "code",
   "execution_count": 21,
   "id": "bd4f5575",
   "metadata": {},
   "outputs": [],
   "source": [
    "df_Indonesia=pd.read_excel(\"./Indonesia netflix top 10.xlsx\")\n",
    "\n",
    "df_Indonesia['year']=df_Indonesia['week'].str[0:4].astype(int)\n",
    "df_Indonesia['month']=df_Indonesia['week'].str[5:7].astype(int)\n",
    "df_Indonesia['day']=df_Indonesia['week'].str[8:10].astype(int)\n",
    "df_Indonesia=df_Indonesia[['country_name','weekly_rank','show_title','year','month','day']]"
   ]
  },
  {
   "cell_type": "code",
   "execution_count": 22,
   "id": "df8544bd",
   "metadata": {},
   "outputs": [],
   "source": [
    "df_Indonesia=pd.read_excel(\"./Indonesia netflix top 10.xlsx\")\n",
    "\n",
    "df_Indonesia['year']=df_Indonesia['week'].str[0:4].astype(int)\n",
    "df_Indonesia['month']=df_Indonesia['week'].str[5:7].astype(int)\n",
    "df_Indonesia['day']=df_Indonesia['week'].str[8:10].astype(int)\n",
    "df_Indonesia=df_Indonesia[['country_name','weekly_rank','show_title','year','month','day']]"
   ]
  },
  {
   "cell_type": "code",
   "execution_count": 23,
   "id": "29a4af65",
   "metadata": {},
   "outputs": [],
   "source": [
    "df_Malaysia=pd.read_excel(\"./Malaysia netflix top 10.xlsx\")\n",
    "\n",
    "df_Malaysia['year']=df_Malaysia['week'].str[0:4].astype(int)\n",
    "df_Malaysia['month']=df_Malaysia['week'].str[5:7].astype(int)\n",
    "df_Malaysia['day']=df_Malaysia['week'].str[8:10].astype(int)\n",
    "df_Malaysia=df_Malaysia[['country_name','weekly_rank','show_title','year','month','day']]"
   ]
  },
  {
   "cell_type": "markdown",
   "id": "32a4cd76",
   "metadata": {},
   "source": [
    "## 분석 결과"
   ]
  },
  {
   "cell_type": "markdown",
   "id": "f183aa95",
   "metadata": {},
   "source": [
    "### 가설 1\n",
    "\n",
    "#### 각 나라별 대한민국 영화와 드라마로 인한 점수를 부여해주는 함수"
   ]
  },
  {
   "cell_type": "code",
   "execution_count": 24,
   "id": "f383739b",
   "metadata": {},
   "outputs": [],
   "source": [
    "def Point(L):\n",
    "    sum=0\n",
    "    for i in L:\n",
    "        sum+=11-i\n",
    "    return sum"
   ]
  },
  {
   "cell_type": "markdown",
   "id": "a146855f",
   "metadata": {},
   "source": [
    "##### 아시아"
   ]
  },
  {
   "cell_type": "code",
   "execution_count": 25,
   "id": "ff217cf1",
   "metadata": {},
   "outputs": [
    {
     "name": "stdout",
     "output_type": "stream",
     "text": [
      "아시아 점수:8156\n"
     ]
    }
   ],
   "source": [
    "Point_Japan=Point(dict(df_Japan['weekly_rank']).values())\n",
    "Point_Taiwan=Point(dict(df_Taiwan['weekly_rank']).values())\n",
    "Point_Vietnam=Point(dict(df_Vietnam['weekly_rank']).values())\n",
    "Point_Asia=Point_Japan + Point_Taiwan + Point_Vietnam\n",
    "print(f\"아시아 점수:{Point_Asia}\")"
   ]
  },
  {
   "cell_type": "markdown",
   "id": "bb010075",
   "metadata": {},
   "source": [
    "#### 북중미"
   ]
  },
  {
   "cell_type": "code",
   "execution_count": 26,
   "id": "93eb881d",
   "metadata": {},
   "outputs": [
    {
     "name": "stdout",
     "output_type": "stream",
     "text": [
      "북중미 점수:779\n"
     ]
    }
   ],
   "source": [
    "Point_Canada=Point(dict(df_Canada['weekly_rank']).values())\n",
    "Point_UnitedStates=Point(dict(df_UnitedStates['weekly_rank']).values())\n",
    "Point_Mexico=Point(dict(df_Mexico['weekly_rank']).values())\n",
    "Point_NorthMiddleAmerica=Point_Canada + Point_UnitedStates + Point_Mexico\n",
    "print(f\"북중미 점수:{Point_NorthMiddleAmerica}\")"
   ]
  },
  {
   "cell_type": "markdown",
   "id": "abeb2794",
   "metadata": {},
   "source": [
    "#### 남아메리카"
   ]
  },
  {
   "cell_type": "code",
   "execution_count": 27,
   "id": "63ac1c1c",
   "metadata": {},
   "outputs": [
    {
     "name": "stdout",
     "output_type": "stream",
     "text": [
      "남아메리카 점수:1127\n"
     ]
    }
   ],
   "source": [
    "Point_Brazil=Point(dict(df_Brazil['weekly_rank']).values())\n",
    "Point_Chile=Point(dict(df_Chile['weekly_rank']).values())\n",
    "Point_Honduras=Point(dict(df_Honduras['weekly_rank']).values())\n",
    "Point_SouthAmerica=Point_Brazil + Point_Chile + Point_Honduras\n",
    "print(f\"남아메리카 점수:{Point_SouthAmerica}\")"
   ]
  },
  {
   "cell_type": "markdown",
   "id": "1e9b82a7",
   "metadata": {},
   "source": [
    "#### 유럽"
   ]
  },
  {
   "cell_type": "code",
   "execution_count": 28,
   "id": "e07f6056",
   "metadata": {},
   "outputs": [
    {
     "name": "stdout",
     "output_type": "stream",
     "text": [
      "유럽 점수:573\n"
     ]
    }
   ],
   "source": [
    "Point_UnitedKingdom=Point(dict(df_UnitedKingdom['weekly_rank']).values())\n",
    "Point_France=Point(dict(df_France['weekly_rank']).values())\n",
    "Point_Germany=Point(dict(df_Germany['weekly_rank']).values())\n",
    "Point_Europe=Point_UnitedKingdom + Point_France + Point_Germany\n",
    "print(f\"유럽 점수:{Point_Europe}\")"
   ]
  },
  {
   "cell_type": "markdown",
   "id": "0c1f4c6e",
   "metadata": {},
   "source": [
    "#### 아프리카"
   ]
  },
  {
   "cell_type": "code",
   "execution_count": 29,
   "id": "aa163c71",
   "metadata": {},
   "outputs": [
    {
     "name": "stdout",
     "output_type": "stream",
     "text": [
      "아프리카 점수:1582\n"
     ]
    }
   ],
   "source": [
    "Point_SouthAfrica=Point(dict(df_SouthAfrica['weekly_rank']).values())\n",
    "Point_Nigeria=Point(dict(df_Nigeria['weekly_rank']).values())\n",
    "Point_Egypt=Point(dict(df_Egypt['weekly_rank']).values())\n",
    "Point_Africa=Point_SouthAfrica + Point_Nigeria + Point_Egypt\n",
    "print(f\"아프리카 점수:{Point_Africa}\")"
   ]
  },
  {
   "cell_type": "markdown",
   "id": "0b83c7c5",
   "metadata": {},
   "source": [
    "#### 오세아니아"
   ]
  },
  {
   "cell_type": "code",
   "execution_count": 30,
   "id": "e966e86f",
   "metadata": {},
   "outputs": [
    {
     "name": "stdout",
     "output_type": "stream",
     "text": [
      "오세아니아 점수:657\n"
     ]
    }
   ],
   "source": [
    "Point_Australia=Point(dict(df_Australia['weekly_rank']).values())\n",
    "Point_NewZealand=Point(dict(df_NewZealand['weekly_rank']).values())\n",
    "Point_NewCaledonia=Point(dict(df_NewCaledonia['weekly_rank']).values())\n",
    "Point_Oceania=Point_Australia + Point_NewZealand + Point_NewCaledonia\n",
    "print(f\"오세아니아 점수:{Point_Oceania}\")"
   ]
  },
  {
   "cell_type": "markdown",
   "id": "556002a1",
   "metadata": {},
   "source": [
    "#### 대륙별 점수 정리"
   ]
  },
  {
   "cell_type": "markdown",
   "id": "689b107a",
   "metadata": {},
   "source": [
    "파이썬으로 엑셀 데이터를 만드는 방법을 몰라 위에 데이터를 바탕으로 다시 엑셀을 만들었다."
   ]
  },
  {
   "cell_type": "code",
   "execution_count": 31,
   "id": "e59cf2d1",
   "metadata": {},
   "outputs": [
    {
     "data": {
      "text/html": [
       "<div>\n",
       "<style scoped>\n",
       "    .dataframe tbody tr th:only-of-type {\n",
       "        vertical-align: middle;\n",
       "    }\n",
       "\n",
       "    .dataframe tbody tr th {\n",
       "        vertical-align: top;\n",
       "    }\n",
       "\n",
       "    .dataframe thead th {\n",
       "        text-align: right;\n",
       "    }\n",
       "</style>\n",
       "<table border=\"1\" class=\"dataframe\">\n",
       "  <thead>\n",
       "    <tr style=\"text-align: right;\">\n",
       "      <th></th>\n",
       "      <th>Continent</th>\n",
       "      <th>Point</th>\n",
       "    </tr>\n",
       "  </thead>\n",
       "  <tbody>\n",
       "    <tr>\n",
       "      <th>0</th>\n",
       "      <td>Asia</td>\n",
       "      <td>8156</td>\n",
       "    </tr>\n",
       "    <tr>\n",
       "      <th>1</th>\n",
       "      <td>NorthMiddleAmerica</td>\n",
       "      <td>779</td>\n",
       "    </tr>\n",
       "    <tr>\n",
       "      <th>2</th>\n",
       "      <td>SouthAmerica</td>\n",
       "      <td>1127</td>\n",
       "    </tr>\n",
       "    <tr>\n",
       "      <th>3</th>\n",
       "      <td>Europe</td>\n",
       "      <td>573</td>\n",
       "    </tr>\n",
       "    <tr>\n",
       "      <th>4</th>\n",
       "      <td>Africa</td>\n",
       "      <td>1582</td>\n",
       "    </tr>\n",
       "    <tr>\n",
       "      <th>5</th>\n",
       "      <td>Oceania</td>\n",
       "      <td>657</td>\n",
       "    </tr>\n",
       "  </tbody>\n",
       "</table>\n",
       "</div>"
      ],
      "text/plain": [
       "            Continent  Point\n",
       "0                Asia   8156\n",
       "1  NorthMiddleAmerica    779\n",
       "2        SouthAmerica   1127\n",
       "3              Europe    573\n",
       "4              Africa   1582\n",
       "5             Oceania    657"
      ]
     },
     "execution_count": 31,
     "metadata": {},
     "output_type": "execute_result"
    }
   ],
   "source": [
    "df_Continent_Point=pd.read_excel(\"./Continent Point.xlsx\")\n",
    "\n",
    "df_Continent_Point"
   ]
  },
  {
   "cell_type": "code",
   "execution_count": 61,
   "id": "702526fb",
   "metadata": {},
   "outputs": [
    {
     "data": {
      "text/plain": [
       "<AxesSubplot:>"
      ]
     },
     "execution_count": 61,
     "metadata": {},
     "output_type": "execute_result"
    },
    {
     "data": {
      "image/png": "[encoded data removed]",
      "text/plain": [
       "<Figure size 432x288 with 1 Axes>"
      ]
     },
     "metadata": {
      "needs_background": "light"
     },
     "output_type": "display_data"
    }
   ],
   "source": [
    "df_Continent_Point.plot.bar()\n",
    "\n",
    "# 0:아시아 1:북중미 2:남아메리카 3:유럽 4:아프리카 5:오세아니아\n",
    "# y축:점수"
   ]
  },
  {
   "cell_type": "markdown",
   "id": "b7296748",
   "metadata": {},
   "source": [
    "### 가설 2"
   ]
  },
  {
   "cell_type": "markdown",
   "id": "37fbeba3",
   "metadata": {},
   "source": [
    "#### 일본"
   ]
  },
  {
   "cell_type": "code",
   "execution_count": 33,
   "id": "8e194ff4",
   "metadata": {},
   "outputs": [
    {
     "name": "stdout",
     "output_type": "stream",
     "text": [
      "일본 점수:2719\n"
     ]
    }
   ],
   "source": [
    "Point_Japan=Point(dict(df_Japan['weekly_rank']).values())\n",
    "print(f\"일본 점수:{Point_Japan}\")"
   ]
  },
  {
   "cell_type": "markdown",
   "id": "0dd65c1d",
   "metadata": {},
   "source": [
    "#### 대만"
   ]
  },
  {
   "cell_type": "code",
   "execution_count": 34,
   "id": "75006d22",
   "metadata": {},
   "outputs": [
    {
     "name": "stdout",
     "output_type": "stream",
     "text": [
      "대만 점수:2487\n"
     ]
    }
   ],
   "source": [
    "Point_Taiwan=Point(dict(df_Taiwan['weekly_rank']).values())\n",
    "print(f\"대만 점수:{Point_Taiwan}\")"
   ]
  },
  {
   "cell_type": "markdown",
   "id": "07ba8abc",
   "metadata": {},
   "source": [
    "#### 베트남"
   ]
  },
  {
   "cell_type": "code",
   "execution_count": 35,
   "id": "95eb96a2",
   "metadata": {},
   "outputs": [
    {
     "name": "stdout",
     "output_type": "stream",
     "text": [
      "베트남 점수:2950\n"
     ]
    }
   ],
   "source": [
    "Point_Vietnam=Point(dict(df_Vietnam['weekly_rank']).values())\n",
    "print(f\"베트남 점수:{Point_Vietnam}\")"
   ]
  },
  {
   "cell_type": "markdown",
   "id": "53fe2c91",
   "metadata": {},
   "source": [
    "#### 인도네시아"
   ]
  },
  {
   "cell_type": "code",
   "execution_count": 36,
   "id": "62ba359f",
   "metadata": {},
   "outputs": [
    {
     "name": "stdout",
     "output_type": "stream",
     "text": [
      "인도네시아 점수:2830\n"
     ]
    }
   ],
   "source": [
    "Point_Indonesia=Point(dict(df_Indonesia['weekly_rank']).values())\n",
    "print(f\"인도네시아 점수:{Point_Indonesia}\")"
   ]
  },
  {
   "cell_type": "markdown",
   "id": "4780f1eb",
   "metadata": {},
   "source": [
    "#### 말레이시아"
   ]
  },
  {
   "cell_type": "code",
   "execution_count": 37,
   "id": "107c83b6",
   "metadata": {},
   "outputs": [
    {
     "name": "stdout",
     "output_type": "stream",
     "text": [
      "말레이시아 점수:2430\n"
     ]
    }
   ],
   "source": [
    "Point_Malaysia=Point(dict(df_Malaysia['weekly_rank']).values())\n",
    "print(f\"말레이시아 점수:{Point_Malaysia}\")"
   ]
  },
  {
   "cell_type": "markdown",
   "id": "321a1198",
   "metadata": {},
   "source": [
    "#### 나라별 점수 정리"
   ]
  },
  {
   "cell_type": "code",
   "execution_count": 38,
   "id": "1a94e0fa",
   "metadata": {},
   "outputs": [
    {
     "data": {
      "text/html": [
       "<div>\n",
       "<style scoped>\n",
       "    .dataframe tbody tr th:only-of-type {\n",
       "        vertical-align: middle;\n",
       "    }\n",
       "\n",
       "    .dataframe tbody tr th {\n",
       "        vertical-align: top;\n",
       "    }\n",
       "\n",
       "    .dataframe thead th {\n",
       "        text-align: right;\n",
       "    }\n",
       "</style>\n",
       "<table border=\"1\" class=\"dataframe\">\n",
       "  <thead>\n",
       "    <tr style=\"text-align: right;\">\n",
       "      <th></th>\n",
       "      <th>Country</th>\n",
       "      <th>Point</th>\n",
       "    </tr>\n",
       "  </thead>\n",
       "  <tbody>\n",
       "    <tr>\n",
       "      <th>0</th>\n",
       "      <td>Japan</td>\n",
       "      <td>2719</td>\n",
       "    </tr>\n",
       "    <tr>\n",
       "      <th>1</th>\n",
       "      <td>Taiwan</td>\n",
       "      <td>2487</td>\n",
       "    </tr>\n",
       "    <tr>\n",
       "      <th>2</th>\n",
       "      <td>Vietnam</td>\n",
       "      <td>2950</td>\n",
       "    </tr>\n",
       "    <tr>\n",
       "      <th>3</th>\n",
       "      <td>Indonesia</td>\n",
       "      <td>2830</td>\n",
       "    </tr>\n",
       "    <tr>\n",
       "      <th>4</th>\n",
       "      <td>Malaysia</td>\n",
       "      <td>2430</td>\n",
       "    </tr>\n",
       "  </tbody>\n",
       "</table>\n",
       "</div>"
      ],
      "text/plain": [
       "     Country  Point\n",
       "0      Japan   2719\n",
       "1     Taiwan   2487\n",
       "2    Vietnam   2950\n",
       "3  Indonesia   2830\n",
       "4   Malaysia   2430"
      ]
     },
     "execution_count": 38,
     "metadata": {},
     "output_type": "execute_result"
    }
   ],
   "source": [
    "df_Country_Point=pd.read_excel(\"./Country Point.xlsx\")\n",
    "\n",
    "df_Country_Point"
   ]
  },
  {
   "cell_type": "code",
   "execution_count": 62,
   "id": "92362245",
   "metadata": {},
   "outputs": [
    {
     "data": {
      "text/plain": [
       "<AxesSubplot:>"
      ]
     },
     "execution_count": 62,
     "metadata": {},
     "output_type": "execute_result"
    },
    {
     "data": {
      "image/png": "[encoded data removed]",
      "text/plain": [
       "<Figure size 432x288 with 1 Axes>"
      ]
     },
     "metadata": {
      "needs_background": "light"
     },
     "output_type": "display_data"
    }
   ],
   "source": [
    "df_Country_Point.plot.bar()\n",
    "\n",
    "# 0:일본 1:대만 2:베트남 3:인도네시아 4:말레이시아\n",
    "# Y축:점수"
   ]
  },
  {
   "cell_type": "markdown",
   "id": "f775217e",
   "metadata": {},
   "source": [
    "### 가설 3"
   ]
  },
  {
   "cell_type": "markdown",
   "id": "83cb5418",
   "metadata": {},
   "source": [
    "#### 각 나라별 오징어 게임 출시 전 두 달 동안의 (2021.7.6~2021.9.16) 점수를 계산해주는 함수"
   ]
  },
  {
   "cell_type": "code",
   "execution_count": 40,
   "id": "c5350f49",
   "metadata": {},
   "outputs": [],
   "source": [
    "def Point_BeforeSG(L):\n",
    "    sum=0\n",
    "    for i in L:\n",
    "        if i[1]!='Squid Game':\n",
    "            if i[2]==2021:\n",
    "                if i[3]==8 or i[3]==7:\n",
    "                    sum+=11-i[0]\n",
    "                elif i[3]==9:\n",
    "                    if i[4]<17:\n",
    "                        sum+=11-i[0]\n",
    "    return sum"
   ]
  },
  {
   "cell_type": "markdown",
   "id": "96a21732",
   "metadata": {},
   "source": [
    "#### 각 나라별 오징어 게임 출시 후 두 달 동안 (2021.11.6~2022.1.16) 의 점수를 계산해주는 함수\n",
    "오징어 게임 출시일인 2021.9.17일을 기준으로 두 달 데이터를 쓰지 않은 이유는 오징어 게임의 성공 이후 대한민국 콘텐츠에 대한 관심도를 측정하고 싶어서 오징어 게임이 출시되고 관심이 조금 줄은 11월 기준으로 두 달 데이터를 선정하였다. 오징어 게임 출시일을 기준으로 측정하게 될 경우 오징어 게임으로 인한 대한민국 콘텐츠에 대한 관심도 증가를 효과적으로 파악할 수 없다."
   ]
  },
  {
   "cell_type": "code",
   "execution_count": 41,
   "id": "96091d71",
   "metadata": {},
   "outputs": [],
   "source": [
    "def Point_AfterSG(L):\n",
    "    sum=0\n",
    "    for i in L: \n",
    "        if i[1]!='Squid Game':\n",
    "            if i[2]==2021:\n",
    "                if i[3]==11:\n",
    "                    if i[4]>=6:\n",
    "                        sum+=11-i[0]\n",
    "                if i[3]==12:\n",
    "                    sum+=11-i[0]\n",
    "            if i[2]==2022:\n",
    "                if i[3]==1:\n",
    "                    if i[4]<17:\n",
    "                        sum+=11-i[0]\n",
    "    return sum"
   ]
  },
  {
   "cell_type": "markdown",
   "id": "70eef4c7",
   "metadata": {},
   "source": [
    "#### 아시아"
   ]
  },
  {
   "cell_type": "code",
   "execution_count": 42,
   "id": "245285c0",
   "metadata": {},
   "outputs": [
    {
     "name": "stdout",
     "output_type": "stream",
     "text": [
      "아시아의 오징어 게임 출시 전 점수:1499\n",
      "아시아의 오징어 게임 출시 후 점수:1146\n",
      "아시아 점수 증감률:-23.549032688458972%\n"
     ]
    }
   ],
   "source": [
    "Point_BeforeSG_Asia= Point_BeforeSG(list_Japan) + Point_BeforeSG(list_Taiwan) + Point_BeforeSG(list_Vietnam)\n",
    "Point_AfterSG_Asia=Point_AfterSG(list_Japan) + Point_AfterSG(list_Taiwan) + Point_AfterSG(list_Vietnam)\n",
    "\n",
    "print(f\"아시아의 오징어 게임 출시 전 점수:{Point_BeforeSG_Asia}\")\n",
    "print(f\"아시아의 오징어 게임 출시 후 점수:{Point_AfterSG_Asia}\")\n",
    "print(f\"아시아 점수 증감률:{(Point_AfterSG_Asia-Point_BeforeSG_Asia)/Point_BeforeSG_Asia*100}%\")"
   ]
  },
  {
   "cell_type": "markdown",
   "id": "26b77bbb",
   "metadata": {},
   "source": [
    "#### 북중미"
   ]
  },
  {
   "cell_type": "code",
   "execution_count": 43,
   "id": "33d347c7",
   "metadata": {},
   "outputs": [
    {
     "name": "stdout",
     "output_type": "stream",
     "text": [
      "북중미의 오징어 게임 출시 전 점수:13\n",
      "북중미의 오징어 게임 출시 후 점수:73\n",
      "북중미 점수 증감률:461.5384615384615%\n"
     ]
    }
   ],
   "source": [
    "Point_BeforeSG_NorthMiddleAmerica= Point_BeforeSG(list_Canada) + Point_BeforeSG(list_UnitedStates) + Point_BeforeSG(list_Mexico)\n",
    "Point_AfterSG_NorthMiddleAmerica=Point_AfterSG(list_Canada) + Point_AfterSG(list_UnitedStates) + Point_AfterSG(list_Mexico)\n",
    "\n",
    "print(f\"북중미의 오징어 게임 출시 전 점수:{Point_BeforeSG_NorthMiddleAmerica}\")\n",
    "print(f\"북중미의 오징어 게임 출시 후 점수:{Point_AfterSG_NorthMiddleAmerica}\")\n",
    "print(f\"북중미 점수 증감률:{(Point_AfterSG_NorthMiddleAmerica-Point_BeforeSG_NorthMiddleAmerica)/Point_BeforeSG_NorthMiddleAmerica*100}%\")"
   ]
  },
  {
   "cell_type": "markdown",
   "id": "8574fb7d",
   "metadata": {},
   "source": [
    "##### 남아메리카"
   ]
  },
  {
   "cell_type": "code",
   "execution_count": 44,
   "id": "c7d6a9ae",
   "metadata": {},
   "outputs": [
    {
     "name": "stdout",
     "output_type": "stream",
     "text": [
      "남아메리카의 오징어 게임 출시 전 점수:43\n",
      "남아메리카의 오징어 게임 출시 후 점수:127\n",
      "남아메리카 점수 증감률:195.3488372093023%\n"
     ]
    }
   ],
   "source": [
    "Point_BeforeSG_SouthAmerica= Point_BeforeSG(list_Brazil) + Point_BeforeSG(list_Chile) + Point_BeforeSG(list_Honduras)\n",
    "Point_AfterSG_SouthAmerica=Point_AfterSG(list_Brazil) + Point_AfterSG(list_Chile) + Point_AfterSG(list_Honduras)\n",
    "\n",
    "print(f\"남아메리카의 오징어 게임 출시 전 점수:{Point_BeforeSG_SouthAmerica}\")\n",
    "print(f\"남아메리카의 오징어 게임 출시 후 점수:{Point_AfterSG_SouthAmerica}\")\n",
    "print(f\"남아메리카 점수 증감률:{(Point_AfterSG_SouthAmerica-Point_BeforeSG_SouthAmerica)/Point_BeforeSG_SouthAmerica*100}%\")"
   ]
  },
  {
   "cell_type": "markdown",
   "id": "b18cbf6d",
   "metadata": {},
   "source": [
    "##### 유럽"
   ]
  },
  {
   "cell_type": "code",
   "execution_count": 45,
   "id": "97375da0",
   "metadata": {},
   "outputs": [
    {
     "name": "stdout",
     "output_type": "stream",
     "text": [
      "유럽의 오징어 게임 출시 전 점수:9\n",
      "유럽의 오징어 게임 출시 후 점수:65\n",
      "유럽 점수 증감률:622.2222222222223%\n"
     ]
    }
   ],
   "source": [
    "Point_BeforeSG_Europe= Point_BeforeSG(list_UnitedKingdom) + Point_BeforeSG(list_France) + Point_BeforeSG(list_Germany)\n",
    "Point_AfterSG_Europe=Point_AfterSG(list_UnitedKingdom) + Point_AfterSG(list_France) + Point_AfterSG(list_Germany)\n",
    "\n",
    "print(f\"유럽의 오징어 게임 출시 전 점수:{Point_BeforeSG_Europe}\")\n",
    "print(f\"유럽의 오징어 게임 출시 후 점수:{Point_AfterSG_Europe}\")\n",
    "print(f\"유럽 점수 증감률:{(Point_AfterSG_Europe-Point_BeforeSG_Europe)/Point_BeforeSG_Europe*100}%\")"
   ]
  },
  {
   "cell_type": "markdown",
   "id": "3cf4e4dd",
   "metadata": {},
   "source": [
    "#### 아프리카"
   ]
  },
  {
   "cell_type": "code",
   "execution_count": 46,
   "id": "f551aa70",
   "metadata": {},
   "outputs": [
    {
     "name": "stdout",
     "output_type": "stream",
     "text": [
      "아프리카의 오징어 게임 출시 전 점수:100\n",
      "아프리카의 오징어 게임 출시 후 점수:182\n",
      "아프리카 점수 증감률:82.0%\n"
     ]
    }
   ],
   "source": [
    "Point_BeforeSG_Africa= Point_BeforeSG(list_SouthAfrica) + Point_BeforeSG(list_Nigeria) + Point_BeforeSG(list_Egypt)\n",
    "Point_AfterSG_Africa=Point_AfterSG(list_SouthAfrica) + Point_AfterSG(list_Nigeria) + Point_AfterSG(list_Egypt)\n",
    "\n",
    "print(f\"아프리카의 오징어 게임 출시 전 점수:{Point_BeforeSG_Africa}\")\n",
    "print(f\"아프리카의 오징어 게임 출시 후 점수:{Point_AfterSG_Africa}\")\n",
    "print(f\"아프리카 점수 증감률:{(Point_AfterSG_Africa-Point_BeforeSG_Africa)/Point_BeforeSG_Africa*100}%\")"
   ]
  },
  {
   "cell_type": "markdown",
   "id": "48f36219",
   "metadata": {},
   "source": [
    "#### 오세아니아"
   ]
  },
  {
   "cell_type": "code",
   "execution_count": 47,
   "id": "139915a9",
   "metadata": {},
   "outputs": [
    {
     "name": "stdout",
     "output_type": "stream",
     "text": [
      "오세아니아의 오징어 게임 출시 전 점수:17\n",
      "오세아니아의 오징어 게임 출시 후 점수:58\n",
      "오세아니아 점수 증감률:241.17647058823528%\n"
     ]
    }
   ],
   "source": [
    "Point_BeforeSG_Oceania= Point_BeforeSG(list_Australia) + Point_BeforeSG(list_NewZealand) + Point_BeforeSG(list_NewCaledonia)\n",
    "Point_AfterSG_Oceania=Point_AfterSG(list_Australia) + Point_AfterSG(list_NewZealand) + Point_AfterSG(list_NewCaledonia)\n",
    "\n",
    "print(f\"오세아니아의 오징어 게임 출시 전 점수:{Point_BeforeSG_Oceania}\")\n",
    "print(f\"오세아니아의 오징어 게임 출시 후 점수:{Point_AfterSG_Oceania}\")\n",
    "print(f\"오세아니아 점수 증감률:{(Point_AfterSG_Oceania-Point_BeforeSG_Oceania)/Point_BeforeSG_Oceania*100}%\")"
   ]
  },
  {
   "cell_type": "markdown",
   "id": "5597a32a",
   "metadata": {},
   "source": [
    "#### 대륙별 오징어 게임 출시 전과 후 점수 정리"
   ]
  },
  {
   "cell_type": "code",
   "execution_count": 48,
   "id": "70a6e284",
   "metadata": {},
   "outputs": [
    {
     "data": {
      "text/html": [
       "<div>\n",
       "<style scoped>\n",
       "    .dataframe tbody tr th:only-of-type {\n",
       "        vertical-align: middle;\n",
       "    }\n",
       "\n",
       "    .dataframe tbody tr th {\n",
       "        vertical-align: top;\n",
       "    }\n",
       "\n",
       "    .dataframe thead th {\n",
       "        text-align: right;\n",
       "    }\n",
       "</style>\n",
       "<table border=\"1\" class=\"dataframe\">\n",
       "  <thead>\n",
       "    <tr style=\"text-align: right;\">\n",
       "      <th></th>\n",
       "      <th>Continent</th>\n",
       "      <th>Before SG</th>\n",
       "      <th>After SG</th>\n",
       "    </tr>\n",
       "  </thead>\n",
       "  <tbody>\n",
       "    <tr>\n",
       "      <th>0</th>\n",
       "      <td>Asia</td>\n",
       "      <td>1499</td>\n",
       "      <td>1146</td>\n",
       "    </tr>\n",
       "    <tr>\n",
       "      <th>1</th>\n",
       "      <td>NorthMiddleAmerica</td>\n",
       "      <td>13</td>\n",
       "      <td>73</td>\n",
       "    </tr>\n",
       "    <tr>\n",
       "      <th>2</th>\n",
       "      <td>SouthAmerica</td>\n",
       "      <td>43</td>\n",
       "      <td>127</td>\n",
       "    </tr>\n",
       "    <tr>\n",
       "      <th>3</th>\n",
       "      <td>Europe</td>\n",
       "      <td>9</td>\n",
       "      <td>65</td>\n",
       "    </tr>\n",
       "    <tr>\n",
       "      <th>4</th>\n",
       "      <td>Africa</td>\n",
       "      <td>100</td>\n",
       "      <td>182</td>\n",
       "    </tr>\n",
       "    <tr>\n",
       "      <th>5</th>\n",
       "      <td>Oceania</td>\n",
       "      <td>17</td>\n",
       "      <td>58</td>\n",
       "    </tr>\n",
       "  </tbody>\n",
       "</table>\n",
       "</div>"
      ],
      "text/plain": [
       "            Continent  Before SG  After SG\n",
       "0                Asia       1499      1146\n",
       "1  NorthMiddleAmerica         13        73\n",
       "2        SouthAmerica         43       127\n",
       "3              Europe          9        65\n",
       "4              Africa        100       182\n",
       "5             Oceania         17        58"
      ]
     },
     "execution_count": 48,
     "metadata": {},
     "output_type": "execute_result"
    }
   ],
   "source": [
    "df_SG=pd.read_excel(\"./BeforeAfter SG.xlsx\")\n",
    "\n",
    "df_SG"
   ]
  },
  {
   "cell_type": "code",
   "execution_count": 63,
   "id": "9e1bccd2",
   "metadata": {},
   "outputs": [
    {
     "data": {
      "text/plain": [
       "<AxesSubplot:>"
      ]
     },
     "execution_count": 63,
     "metadata": {},
     "output_type": "execute_result"
    },
    {
     "data": {
      "image/png": "[encoded data removed]",
      "text/plain": [
       "<Figure size 432x288 with 1 Axes>"
      ]
     },
     "metadata": {
      "needs_background": "light"
     },
     "output_type": "display_data"
    }
   ],
   "source": [
    "df_SG.plot.bar()\n",
    "\n",
    "#0.아시아 1.북중미 2.남아메리카 3.유럽 4.아프리카 5.오세아니아\n",
    "# y축:점수"
   ]
  },
  {
   "cell_type": "code",
   "execution_count": 50,
   "id": "6479d4c9",
   "metadata": {},
   "outputs": [
    {
     "data": {
      "text/html": [
       "<div>\n",
       "<style scoped>\n",
       "    .dataframe tbody tr th:only-of-type {\n",
       "        vertical-align: middle;\n",
       "    }\n",
       "\n",
       "    .dataframe tbody tr th {\n",
       "        vertical-align: top;\n",
       "    }\n",
       "\n",
       "    .dataframe thead th {\n",
       "        text-align: right;\n",
       "    }\n",
       "</style>\n",
       "<table border=\"1\" class=\"dataframe\">\n",
       "  <thead>\n",
       "    <tr style=\"text-align: right;\">\n",
       "      <th></th>\n",
       "      <th>Continent</th>\n",
       "      <th>Change Rate</th>\n",
       "    </tr>\n",
       "  </thead>\n",
       "  <tbody>\n",
       "    <tr>\n",
       "      <th>0</th>\n",
       "      <td>Asia</td>\n",
       "      <td>-23</td>\n",
       "    </tr>\n",
       "    <tr>\n",
       "      <th>1</th>\n",
       "      <td>NorthMiddleAmerica</td>\n",
       "      <td>461</td>\n",
       "    </tr>\n",
       "    <tr>\n",
       "      <th>2</th>\n",
       "      <td>SouthAmerica</td>\n",
       "      <td>195</td>\n",
       "    </tr>\n",
       "    <tr>\n",
       "      <th>3</th>\n",
       "      <td>Europe</td>\n",
       "      <td>622</td>\n",
       "    </tr>\n",
       "    <tr>\n",
       "      <th>4</th>\n",
       "      <td>Africa</td>\n",
       "      <td>82</td>\n",
       "    </tr>\n",
       "    <tr>\n",
       "      <th>5</th>\n",
       "      <td>Oceania</td>\n",
       "      <td>241</td>\n",
       "    </tr>\n",
       "  </tbody>\n",
       "</table>\n",
       "</div>"
      ],
      "text/plain": [
       "            Continent  Change Rate\n",
       "0                Asia          -23\n",
       "1  NorthMiddleAmerica          461\n",
       "2        SouthAmerica          195\n",
       "3              Europe          622\n",
       "4              Africa           82\n",
       "5             Oceania          241"
      ]
     },
     "execution_count": 50,
     "metadata": {},
     "output_type": "execute_result"
    }
   ],
   "source": [
    "df_ChangeRate=pd.read_excel(\"./Change Rate.xlsx\")\n",
    "\n",
    "df_ChangeRate"
   ]
  },
  {
   "cell_type": "code",
   "execution_count": 64,
   "id": "27f571b7",
   "metadata": {},
   "outputs": [
    {
     "data": {
      "text/plain": [
       "<AxesSubplot:>"
      ]
     },
     "execution_count": 64,
     "metadata": {},
     "output_type": "execute_result"
    },
    {
     "data": {
      "image/png": "[encoded data removed]",
      "text/plain": [
       "<Figure size 432x288 with 1 Axes>"
      ]
     },
     "metadata": {
      "needs_background": "light"
     },
     "output_type": "display_data"
    }
   ],
   "source": [
    "df_ChangeRate.plot.bar()\n",
    "\n",
    "# 0.아시아 1.북중미 2.남아메리카 3.유럽 4.아프리카 5.오세아니아\n",
    "# y축: 증감률"
   ]
  },
  {
   "cell_type": "markdown",
   "id": "e6670194",
   "metadata": {},
   "source": [
    "## 결론"
   ]
  },
  {
   "cell_type": "markdown",
   "id": "70e07707",
   "metadata": {},
   "source": [
    "### 가설1\n",
    "데이터를 가지고 점수를 대륙별로 구해본 결과, 아시아가 8156점, 북중미가 779점, 남아메리카가 1127점, 유럽은 573점, 아프리카가 1582점, 오세아니아가 657점이 나왔다.\n",
    "\n",
    "따라서 가설대로 아시아가 압도적으로 대한민국 드라마, 영화 콘텐츠의 수요가 높았다."
   ]
  },
  {
   "cell_type": "markdown",
   "id": "e256a0ed",
   "metadata": {},
   "source": [
    "### 가설2\n",
    "데이터를 가지고 대한민국 콘텐츠의 수요가 높다는 주요 국가 5개의 점수를 구해본 결과, 일본이 2719점, 대만이 2487점, 베트남이 2950점, 인도네시아가 2830점, 말레이시아가 2430점이 나왔다. \n",
    "\n",
    "5개 국가간의 점수가 비슷하게 나왔지만 근소한 차이로 베트남의 점수가 가장 높았다. 따라서 데이터를 분석한 결과 대한민국 콘텐츠의 수요가 가장 높은 나라는 일본인 아닌 베트남이었다."
   ]
  },
  {
   "cell_type": "markdown",
   "id": "548d0360",
   "metadata": {},
   "source": [
    "### 가설3\n",
    "데이터를 가지고 각 대륙별오징어 게임 출시 전과 후의 점수와 전과 후에 따른 점수 증감률을 계산해보았다. 아시아의 경우 출시 전 점수는 1499점, 출시 후 점수는 1146점으로 6개 대륙 중 유일하게 출시 후에 점수가 떨어졌으며 증감률은 약 -23%였다. 북중미의 경우 출시 전 점수는 13점, 출시 후 점수는 73점으로 증감률은 약 461%이다. 남아메리카의 경우 출시 전 점수는 43점, 출시 후 점수는 127점으로 증감률은 약 195%이다. 유럽의 경우 출시 전 점수는 9점, 출시 후 점수는 65점으로 증감률은 약 622%로 6개 대륙 중 가장 높은 점수 상승률을 보였다. 아프리카의 경우 출시 전 점수는 100점, 출시 후 점수는 182점으로 증감률은 약 82%였다. 마지막으로 오세아니아의 경우 출시 전 점수는 17점, 출시 후 점수는 58점을로 증감률은 약 241%이다. \n",
    "\n",
    "증감률로 보아 오징어 게임 출시 전과 후의 대한민국 콘텐츠 수요 차이가 가장 적은 곳은 아시아였다. 아시아의 경우 오징어 게임 출시 전과 후 모두 가장 높은 점수를 보였으나 유일하게 출시 후 점수가 출시 전 점수보다 낮은 대륙이었다."
   ]
  },
  {
   "cell_type": "markdown",
   "id": "8683255e",
   "metadata": {},
   "source": [
    "## 참고문헌"
   ]
  },
  {
   "cell_type": "markdown",
   "id": "11cbb259",
   "metadata": {},
   "source": [
    "Lecture 12_Pandas_1117 - 박상근 교수님"
   ]
  }
 ],
 "metadata": {
  "kernelspec": {
   "display_name": "Python 3 (ipykernel)",
   "language": "python",
   "name": "python3"
  },
  "language_info": {
   "codemirror_mode": {
    "name": "ipython",
    "version": 3
   },
   "file_extension": ".py",
   "mimetype": "text/x-python",
   "name": "python",
   "nbconvert_exporter": "python",
   "pygments_lexer": "ipython3",
   "version": "3.9.13"
  }
 },
 "nbformat": 4,
 "nbformat_minor": 5
}
