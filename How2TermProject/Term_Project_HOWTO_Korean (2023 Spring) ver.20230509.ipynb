{
 "cells": [
  {
   "cell_type": "markdown",
   "metadata": {},
   "source": [
    "# 2023년 1학기 텀 프로젝트 내용 및 일정"
   ]
  },
  {
   "cell_type": "markdown",
   "metadata": {},
   "source": [
    "이 수업에서 우리는 파이썬 프로그래밍 언어에 대한 기본 문법과 활용 방법에 대해 배우고 있습니다. 여러분은 이미 파이썬 프로그래밍을 활용해 간단한 프로그램을 작성할 수 있는 수준에 이르렀습니다. 앞으로 더 배울 내용까지 감안하면 여러분은 본인이 생각하는 것보다 훨씬 높은 수준으로 파이썬 프로그래밍을 활용할 수 있습니다.\n",
    "\n",
    "이번 텀 프로젝트는 **파이썬 프로그래밍을 활용한 정보 획득과 분석**입니다. 여러분은 파이썬을 활용해 본인이 관심있는 분야의 정보(데이터)를 인터넷에서 가져온 다음 이를 다양한 관점으로 분석해야 합니다. 아래의 참고자료를 활용하여 공개 데이터 또는 본인이 희망하는 데이터를 인터넷에서 직접 찾아 정보를 분석하는 프로젝트를 수행합니다.\n",
    "\n",
    "제출해야 할 텀 프로젝트의 목차는 다음과 같습니다. Jupyter notebook (.ipynb) 파일 하나에 아래 목차 중 (1)~(7) 항목을 작성합니다. 그리고 별첨과 함께 압축하여 e-campus 과제 게시판에 업로드합니다.\n",
    "\n",
    "\n",
    "## 목차\n",
    "1. 주제 및 주제 선정 이유: 이 주제를 선정하게 된 이유를 나열\n",
    "2. 가설 정의: 본인이 텀 프로젝트를 통해서 증명하고자 하는 명제 혹은 밝히고자 하는 논리가 무엇인지 설명 (최소 3개 이상, 최대 5개 이하)\n",
    "3. 데이터 획득 및 가공: 위의 명제/논리을 펼치기 위하여, 어떤 데이터를 어떻게 획득/가공했는지 구체적으로 설명\n",
    "4. 분석 결과: 수학적 방법 혹은 논리적 방법을 파이썬으로 구현하여 분석 결과를 도출 (가설별 그래프 최소 1개 이상 활용)\n",
    "5. 결론: 본인의 명제 혹은 밝히고자 하는 논리가 증명/확인 되었는지 구체적으로 서술\n",
    "6. 참고문헌: 위의 작업을 위하여 참고한 자료, 인터넷 정보, 논문, 도서 등을 나열\n",
    "7. 별첨: 데이터 원본. 만약 별도로 작성한 파이썬 코드가 있다면 해당 코드까지 모두 첨부\n",
    "\n",
    "제출된 텀 프로젝트는 웹사이트를 통해서 전체 공개됩니다.\n",
    "아울러 **인터넷/블로그/도서 또는 다른 학생의 유사 작업을 그대로 제출하는 행위를 일체 금지하며, 적발시 본 과목의 전체 성적을 0점 처리**합니다."
   ]
  },
  {
   "cell_type": "markdown",
   "metadata": {},
   "source": [
    "# 제출 일정\n",
    "\n",
    "  \n",
    "## 1. 프로포절 (5월 21일 일요일 오후 11시 59분까지 e-campus 과제 게시판에 제출) [3점]\n",
    "  - 주제\n",
    "  - 가설 혹은 명제: 최소 3개 이상, 최대 5개 이하\n",
    "    - 본인의 가설이 틀린 것으로 확인되더라도 전혀 상관없음. 가설이 맞냐 틀리냐보다 이 가설을 분석해보는 것이 의미있는지가 중요함.\n",
    "  - 분석할 데이터의 출처와 데이터 내용\n",
    "      - 데이터는 인터넷에서 다운받아야 함. 수작업으로 노가다해서 수집한 데이터는 인정하지 않음\n",
    "  - 분석 중간 결과\n",
    "      - <b>최소한 데이터 내용을 출력하고, 데이터에 대한 상세 설명이 있어야 함 (컬럼 명, 행 개수 등)</b>\n",
    "      - 이미 가설이나 명제를 분석한 내용이 있다면 추가해도 좋음 (필수는 아님)\n",
    "  - *별첨: 분석 대상 데이터 원본\n",
    "  - 위 항목을 마크다운도 잘 사용해서 Jupyter Notebook (.ipynb) 파일로 작성 (A4 기준 1-2장 정도의 분량)\n",
    "\n",
    "## 2. 최종 보고서 (6월 11일 일요일 오후 11시 59분까지 e-campus 과제 게시판에 제출) [7점]\n",
    "  - 상기 목차(1~7)의 모든 내용을 포함하여 제출\n",
    "\n",
    "[주의] **제출 시간을 넘기면 24시간마다 -1점씩 차감.**"
   ]
  },
  {
   "cell_type": "markdown",
   "metadata": {},
   "source": [
    "# 최종보고서 평가 기준\n",
    "\n",
    "### 최소 기준 만족시 [2점]\n",
    "\n",
    "- 가설 최소 3개 이상, 5개 이하\n",
    "- 가설별 그래프 최소 1개 이상 사용 (주피터 노트북에 그래프 그리기)\n",
    "\n",
    "### 종합 평가 [5점]\n",
    "\n",
    "- 아이디어 창의성, 우수성, 난이도, 완성도 등을 고려 \n",
    "- 분석의 난이도 (데이터 조작 등)\n",
    "- 분석의 완성도 (가설을 잘 설정하고 원하는 내용을 다 분석했는가)\n",
    "- 분석 결과의 중요성 (사회적 기여도 등)\n",
    "- 기타 (예: 마크다운을 활용한 깔끔한 보고서 정리 등)"
   ]
  },
  {
   "cell_type": "markdown",
   "metadata": {},
   "source": [
    "# 데이터 분석 참고 자료"
   ]
  },
  {
   "cell_type": "markdown",
   "metadata": {},
   "source": [
    "## 1. 파이썬 데이터 분석 라이브러리"
   ]
  },
  {
   "cell_type": "markdown",
   "metadata": {},
   "source": [
    "- Pandas : https://pandas.pydata.org/\n",
    "  - 파이썬으로 CSV파일, Excel파일 등을 읽고 엑셀처럼 다양하게 데이터를 가공 및 분석할 수 있는 라이브러리\n",
    "  \n",
    "- Matplotlib : https://matplotlib.org/\n",
    "  - 파이썬으로 다양한 그래프를 그릴 수 있는 라이브러리"
   ]
  },
  {
   "cell_type": "markdown",
   "metadata": {},
   "source": [
    "## 2. 참고 도서"
   ]
  },
  {
   "cell_type": "markdown",
   "metadata": {},
   "source": [
    "- \"Do it! 데이터 분석을 위한 판다스 입문\", 다니엘 첸 저/김영하 역, 이지스퍼블리싱, 2018년 10월 11일 출간<br>\n",
    "https://product.kyobobook.co.kr/detail/S000001817905<br>\n",
    "\n",
    "\n",
    "- \"파이썬으로 데이터 주무르기 독특한 예제를 통해 배우는 데이터 분석 입문\", 민형기 지음, 비제이퍼블릭, 2017년 12월 29일 출간<br>\n",
    "http://www.kyobobook.co.kr/product/detailViewKor.laf?ejkGb=KOR&mallGb=KOR&barcode=9791186697474&orderClick=LEA&Kc=<br>\n",
    "\n",
    "\n",
    "- \"파이썬을 이용한 빅데이터 수집, 분석과 시각화 페이스북 트위터 네이버 공공 일반 웹 데이터 기반\", 이원하 지음 | 비팬북스 | 2017년 06월 20일 출간<br>\n",
    "http://www.kyobobook.co.kr/product/detailViewKor.laf?ejkGb=KOR&mallGb=KOR&barcode=9788994797694&orderClick=LAH&Kc=<br>"
   ]
  },
  {
   "cell_type": "markdown",
   "metadata": {},
   "source": [
    "## 3. 참고 사이트"
   ]
  },
  {
   "cell_type": "markdown",
   "metadata": {},
   "source": [
    "- 데이터 사이언스 스쿨 (Pandas 사용법)<br>\n",
    "https://datascienceschool.net/intro.html<br>\n",
    "\n",
    "\n",
    "- Matplotlib Tutorial - 파이썬으로 데이터 시각화하기<br>\n",
    "https://wikidocs.net/book/5011<br>\n",
    "\n",
    "\n",
    "- 정부3.0 공공 데이터 포털 API 사용하기<br>\n",
    "https://ericnjennifer.github.io/python_crawling/2018/01/05/PythonCrawling_Chapt5.html<br>\n",
    "\n",
    "\n",
    "- 오픈 API를 통한 공공데이터 수집<br>\n",
    "https://medium.com/@whj2013123218/%EC%98%A4%ED%94%88-api%EB%A5%BC-%ED%86%B5%ED%95%9C-%EA%B3%B5%EA%B3%B5%EB%8D%B0%EC%9D%B4%ED%84%B0-%EC%88%98%EC%A7%91-e1dd0ad203b6<br>\n",
    "\n",
    "\n",
    "- 파이썬을 이용한 빅데이터 수집. 분석과 시각화<br>\n",
    "https://snscrawler.files.wordpress.com/2017/07/python-data-crawling.pdf\n",
    "https://snscrawler.files.wordpress.com/2017/07/part1_eb8db0ec9db4ed84b0-ec82acec9aa9ec9d84-ec9c84ed959c-eab384eca095-ec84a4eca095.pdf"
   ]
  },
  {
   "cell_type": "markdown",
   "metadata": {},
   "source": [
    "## 4. 공공 데이터"
   ]
  },
  {
   "cell_type": "markdown",
   "metadata": {},
   "source": [
    "- 정부 3.0 공공 데이터 : http://www.data.go.kr/\n",
    "\n",
    "\n",
    "- 서울시 열린 데이터 광장 : http://data.seoul.go.kr/"
   ]
  },
  {
   "cell_type": "markdown",
   "metadata": {},
   "source": [
    "## 5. 파이썬으로 SNS 데이터를 가져오기 위한 Open API 활용 가이드"
   ]
  },
  {
   "cell_type": "markdown",
   "metadata": {},
   "source": [
    "- 네이버 : https://developers.naver.com/docs/common/openapiguide/\n",
    "\n",
    "\n",
    "- Facebook : https://facebook-sdk.readthedocs.io/en/latest/\n",
    "\n",
    "\n",
    "- Twitter : https://developer.twitter.com/en/docs/developer-utilities/twitter-libraries.html\n",
    "\n",
    "\n",
    "- Instagram : https://www.instagram.com/developer/libraries/"
   ]
  }
 ],
 "metadata": {
  "kernelspec": {
   "display_name": "Python 3 (ipykernel)",
   "language": "python",
   "name": "python3"
  },
  "language_info": {
   "codemirror_mode": {
    "name": "ipython",
    "version": 3
   },
   "file_extension": ".py",
   "mimetype": "text/x-python",
   "name": "python",
   "nbconvert_exporter": "python",
   "pygments_lexer": "ipython3",
   "version": "3.9.13"
  }
 },
 "nbformat": 4,
 "nbformat_minor": 2
}
